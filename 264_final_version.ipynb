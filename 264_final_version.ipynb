{
  "cells": [
    {
      "cell_type": "markdown",
      "metadata": {
        "id": "view-in-github",
        "colab_type": "text"
      },
      "source": [
        "<a href=\"https://colab.research.google.com/github/05satyam/fake-news-detection/blob/main/264_final_version.ipynb\" target=\"_parent\"><img src=\"https://colab.research.google.com/assets/colab-badge.svg\" alt=\"Open In Colab\"/></a>"
      ]
    },
    {
      "cell_type": "code",
      "execution_count": null,
      "metadata": {
        "execution": {
          "iopub.execute_input": "2021-05-25T06:50:29.636394Z",
          "iopub.status.busy": "2021-05-25T06:50:29.636041Z",
          "iopub.status.idle": "2021-05-25T06:50:29.643277Z",
          "shell.execute_reply": "2021-05-25T06:50:29.642127Z",
          "shell.execute_reply.started": "2021-05-25T06:50:29.636365Z"
        },
        "id": "Nx1HqtQ0erIA"
      },
      "outputs": [],
      "source": [
        "import pandas as pd\n",
        "import sklearn\n",
        "import itertools\n",
        "import numpy as np\n",
        "import seaborn as sb\n",
        "import re\n",
        "import nltk\n",
        "import pickle\n",
        "from sklearn.model_selection import train_test_split\n",
        "from sklearn.feature_extraction.text import TfidfVectorizer\n",
        "from sklearn import metrics\n",
        "from sklearn.metrics import confusion_matrix\n",
        "from matplotlib import pyplot as plt\n",
        "from sklearn.linear_model import PassiveAggressiveClassifier\n",
        "from nltk.stem import WordNetLemmatizer\n",
        "from nltk.corpus import stopwords\n",
        "import seaborn as sb\n",
        "from sklearn.tree import DecisionTreeClassifier\n",
        "from sklearn.ensemble import RandomForestClassifier\n",
        "from sklearn import svm\n",
        "from sklearn.linear_model import SGDClassifier\n",
        "from sklearn.model_selection import learning_curve\n",
        "from sklearn.metrics import confusion_matrix, f1_score,  classification_report\n",
        "from sklearn.model_selection import KFold"
      ]
    },
    {
      "cell_type": "markdown",
      "source": [
        ">Loading data set from google drive"
      ],
      "metadata": {
        "id": "NcRGIe4zoGI3"
      }
    },
    {
      "cell_type": "code",
      "source": [
        "from google.colab import drive\n",
        "drive.mount('/content/drive')"
      ],
      "metadata": {
        "colab": {
          "base_uri": "https://localhost:8080/"
        },
        "id": "dMPuq61Uogdx",
        "outputId": "7f166fe5-3589-4647-dc71-5ebca0d587e0"
      },
      "execution_count": null,
      "outputs": [
        {
          "output_type": "stream",
          "name": "stdout",
          "text": [
            "Mounted at /content/drive\n"
          ]
        }
      ]
    },
    {
      "cell_type": "code",
      "source": [
        "dataSet = pd.read_csv(\"drive/My Drive/264/train.csv\")"
      ],
      "metadata": {
        "id": "mqui1zfZpBgI"
      },
      "execution_count": null,
      "outputs": []
    },
    {
      "cell_type": "code",
      "execution_count": null,
      "metadata": {
        "execution": {
          "iopub.execute_input": "2021-05-25T06:50:32.05136Z",
          "iopub.status.busy": "2021-05-25T06:50:32.051032Z",
          "iopub.status.idle": "2021-05-25T06:50:32.089516Z",
          "shell.execute_reply": "2021-05-25T06:50:32.088399Z",
          "shell.execute_reply.started": "2021-05-25T06:50:32.051329Z"
        },
        "id": "re8o5hRjerIF",
        "outputId": "ae564980-99c4-4353-dcb1-d52a3f66e19d",
        "colab": {
          "base_uri": "https://localhost:8080/",
          "height": 677
        }
      },
      "outputs": [
        {
          "output_type": "execute_result",
          "data": {
            "text/plain": [
              "                                            Statement  Label\n",
              "0   Says the Annies List political group supports ...  False\n",
              "1   When did the decline of coal start? It started...   True\n",
              "2   Hillary Clinton agrees with John McCain \"by vo...   True\n",
              "3   Health care reform legislation is likely to ma...  False\n",
              "4   The economic turnaround started at the end of ...   True\n",
              "5   The Chicago Bears have had more starting quart...   True\n",
              "6   Jim Dunnam has not lived in the district he re...  False\n",
              "7   I'm the only person on this stage who has work...   True\n",
              "8   However, it took $19.5 million in Oregon Lotte...   True\n",
              "9   Says GOP primary opponents Glenn Grothman and ...   True\n",
              "10  For the first time in history, the share of th...   True\n",
              "11  Since 2000, nearly 12 million Americans have s...   True\n",
              "12  When Mitt Romney was governor of Massachusetts...  False\n",
              "13  The economy bled $24 billion due to the govern...   True\n",
              "14  Most of the (Affordable Care Act) has already ...  False\n",
              "15  In this last election in November, ... 63 perc...   True\n",
              "16  McCain opposed a requirement that the governme...   True\n",
              "17  U.S. Rep. Ron Kind, D-Wis., and his fellow Dem...  False\n",
              "18  Water rates in Manila, Philippines, were raise...   True\n",
              "19  Almost 100,000 people left Puerto Rico last year.   True"
            ],
            "text/html": [
              "\n",
              "  <div id=\"df-fbf04595-111b-4871-9921-49ddbf6f1287\">\n",
              "    <div class=\"colab-df-container\">\n",
              "      <div>\n",
              "<style scoped>\n",
              "    .dataframe tbody tr th:only-of-type {\n",
              "        vertical-align: middle;\n",
              "    }\n",
              "\n",
              "    .dataframe tbody tr th {\n",
              "        vertical-align: top;\n",
              "    }\n",
              "\n",
              "    .dataframe thead th {\n",
              "        text-align: right;\n",
              "    }\n",
              "</style>\n",
              "<table border=\"1\" class=\"dataframe\">\n",
              "  <thead>\n",
              "    <tr style=\"text-align: right;\">\n",
              "      <th></th>\n",
              "      <th>Statement</th>\n",
              "      <th>Label</th>\n",
              "    </tr>\n",
              "  </thead>\n",
              "  <tbody>\n",
              "    <tr>\n",
              "      <th>0</th>\n",
              "      <td>Says the Annies List political group supports ...</td>\n",
              "      <td>False</td>\n",
              "    </tr>\n",
              "    <tr>\n",
              "      <th>1</th>\n",
              "      <td>When did the decline of coal start? It started...</td>\n",
              "      <td>True</td>\n",
              "    </tr>\n",
              "    <tr>\n",
              "      <th>2</th>\n",
              "      <td>Hillary Clinton agrees with John McCain \"by vo...</td>\n",
              "      <td>True</td>\n",
              "    </tr>\n",
              "    <tr>\n",
              "      <th>3</th>\n",
              "      <td>Health care reform legislation is likely to ma...</td>\n",
              "      <td>False</td>\n",
              "    </tr>\n",
              "    <tr>\n",
              "      <th>4</th>\n",
              "      <td>The economic turnaround started at the end of ...</td>\n",
              "      <td>True</td>\n",
              "    </tr>\n",
              "    <tr>\n",
              "      <th>5</th>\n",
              "      <td>The Chicago Bears have had more starting quart...</td>\n",
              "      <td>True</td>\n",
              "    </tr>\n",
              "    <tr>\n",
              "      <th>6</th>\n",
              "      <td>Jim Dunnam has not lived in the district he re...</td>\n",
              "      <td>False</td>\n",
              "    </tr>\n",
              "    <tr>\n",
              "      <th>7</th>\n",
              "      <td>I'm the only person on this stage who has work...</td>\n",
              "      <td>True</td>\n",
              "    </tr>\n",
              "    <tr>\n",
              "      <th>8</th>\n",
              "      <td>However, it took $19.5 million in Oregon Lotte...</td>\n",
              "      <td>True</td>\n",
              "    </tr>\n",
              "    <tr>\n",
              "      <th>9</th>\n",
              "      <td>Says GOP primary opponents Glenn Grothman and ...</td>\n",
              "      <td>True</td>\n",
              "    </tr>\n",
              "    <tr>\n",
              "      <th>10</th>\n",
              "      <td>For the first time in history, the share of th...</td>\n",
              "      <td>True</td>\n",
              "    </tr>\n",
              "    <tr>\n",
              "      <th>11</th>\n",
              "      <td>Since 2000, nearly 12 million Americans have s...</td>\n",
              "      <td>True</td>\n",
              "    </tr>\n",
              "    <tr>\n",
              "      <th>12</th>\n",
              "      <td>When Mitt Romney was governor of Massachusetts...</td>\n",
              "      <td>False</td>\n",
              "    </tr>\n",
              "    <tr>\n",
              "      <th>13</th>\n",
              "      <td>The economy bled $24 billion due to the govern...</td>\n",
              "      <td>True</td>\n",
              "    </tr>\n",
              "    <tr>\n",
              "      <th>14</th>\n",
              "      <td>Most of the (Affordable Care Act) has already ...</td>\n",
              "      <td>False</td>\n",
              "    </tr>\n",
              "    <tr>\n",
              "      <th>15</th>\n",
              "      <td>In this last election in November, ... 63 perc...</td>\n",
              "      <td>True</td>\n",
              "    </tr>\n",
              "    <tr>\n",
              "      <th>16</th>\n",
              "      <td>McCain opposed a requirement that the governme...</td>\n",
              "      <td>True</td>\n",
              "    </tr>\n",
              "    <tr>\n",
              "      <th>17</th>\n",
              "      <td>U.S. Rep. Ron Kind, D-Wis., and his fellow Dem...</td>\n",
              "      <td>False</td>\n",
              "    </tr>\n",
              "    <tr>\n",
              "      <th>18</th>\n",
              "      <td>Water rates in Manila, Philippines, were raise...</td>\n",
              "      <td>True</td>\n",
              "    </tr>\n",
              "    <tr>\n",
              "      <th>19</th>\n",
              "      <td>Almost 100,000 people left Puerto Rico last year.</td>\n",
              "      <td>True</td>\n",
              "    </tr>\n",
              "  </tbody>\n",
              "</table>\n",
              "</div>\n",
              "      <button class=\"colab-df-convert\" onclick=\"convertToInteractive('df-fbf04595-111b-4871-9921-49ddbf6f1287')\"\n",
              "              title=\"Convert this dataframe to an interactive table.\"\n",
              "              style=\"display:none;\">\n",
              "        \n",
              "  <svg xmlns=\"http://www.w3.org/2000/svg\" height=\"24px\"viewBox=\"0 0 24 24\"\n",
              "       width=\"24px\">\n",
              "    <path d=\"M0 0h24v24H0V0z\" fill=\"none\"/>\n",
              "    <path d=\"M18.56 5.44l.94 2.06.94-2.06 2.06-.94-2.06-.94-.94-2.06-.94 2.06-2.06.94zm-11 1L8.5 8.5l.94-2.06 2.06-.94-2.06-.94L8.5 2.5l-.94 2.06-2.06.94zm10 10l.94 2.06.94-2.06 2.06-.94-2.06-.94-.94-2.06-.94 2.06-2.06.94z\"/><path d=\"M17.41 7.96l-1.37-1.37c-.4-.4-.92-.59-1.43-.59-.52 0-1.04.2-1.43.59L10.3 9.45l-7.72 7.72c-.78.78-.78 2.05 0 2.83L4 21.41c.39.39.9.59 1.41.59.51 0 1.02-.2 1.41-.59l7.78-7.78 2.81-2.81c.8-.78.8-2.07 0-2.86zM5.41 20L4 18.59l7.72-7.72 1.47 1.35L5.41 20z\"/>\n",
              "  </svg>\n",
              "      </button>\n",
              "      \n",
              "  <style>\n",
              "    .colab-df-container {\n",
              "      display:flex;\n",
              "      flex-wrap:wrap;\n",
              "      gap: 12px;\n",
              "    }\n",
              "\n",
              "    .colab-df-convert {\n",
              "      background-color: #E8F0FE;\n",
              "      border: none;\n",
              "      border-radius: 50%;\n",
              "      cursor: pointer;\n",
              "      display: none;\n",
              "      fill: #1967D2;\n",
              "      height: 32px;\n",
              "      padding: 0 0 0 0;\n",
              "      width: 32px;\n",
              "    }\n",
              "\n",
              "    .colab-df-convert:hover {\n",
              "      background-color: #E2EBFA;\n",
              "      box-shadow: 0px 1px 2px rgba(60, 64, 67, 0.3), 0px 1px 3px 1px rgba(60, 64, 67, 0.15);\n",
              "      fill: #174EA6;\n",
              "    }\n",
              "\n",
              "    [theme=dark] .colab-df-convert {\n",
              "      background-color: #3B4455;\n",
              "      fill: #D2E3FC;\n",
              "    }\n",
              "\n",
              "    [theme=dark] .colab-df-convert:hover {\n",
              "      background-color: #434B5C;\n",
              "      box-shadow: 0px 1px 3px 1px rgba(0, 0, 0, 0.15);\n",
              "      filter: drop-shadow(0px 1px 2px rgba(0, 0, 0, 0.3));\n",
              "      fill: #FFFFFF;\n",
              "    }\n",
              "  </style>\n",
              "\n",
              "      <script>\n",
              "        const buttonEl =\n",
              "          document.querySelector('#df-fbf04595-111b-4871-9921-49ddbf6f1287 button.colab-df-convert');\n",
              "        buttonEl.style.display =\n",
              "          google.colab.kernel.accessAllowed ? 'block' : 'none';\n",
              "\n",
              "        async function convertToInteractive(key) {\n",
              "          const element = document.querySelector('#df-fbf04595-111b-4871-9921-49ddbf6f1287');\n",
              "          const dataTable =\n",
              "            await google.colab.kernel.invokeFunction('convertToInteractive',\n",
              "                                                     [key], {});\n",
              "          if (!dataTable) return;\n",
              "\n",
              "          const docLinkHtml = 'Like what you see? Visit the ' +\n",
              "            '<a target=\"_blank\" href=https://colab.research.google.com/notebooks/data_table.ipynb>data table notebook</a>'\n",
              "            + ' to learn more about interactive tables.';\n",
              "          element.innerHTML = '';\n",
              "          dataTable['output_type'] = 'display_data';\n",
              "          await google.colab.output.renderOutput(dataTable, element);\n",
              "          const docLink = document.createElement('div');\n",
              "          docLink.innerHTML = docLinkHtml;\n",
              "          element.appendChild(docLink);\n",
              "        }\n",
              "      </script>\n",
              "    </div>\n",
              "  </div>\n",
              "  "
            ]
          },
          "metadata": {},
          "execution_count": 4
        }
      ],
      "source": [
        "dataSet.head(20)"
      ]
    },
    {
      "cell_type": "code",
      "execution_count": null,
      "metadata": {
        "execution": {
          "iopub.execute_input": "2021-05-25T06:50:32.10674Z",
          "iopub.status.busy": "2021-05-25T06:50:32.106434Z",
          "iopub.status.idle": "2021-05-25T06:50:32.120541Z",
          "shell.execute_reply": "2021-05-25T06:50:32.119386Z",
          "shell.execute_reply.started": "2021-05-25T06:50:32.106712Z"
        },
        "id": "j9gMr_2terIG",
        "outputId": "793bde04-1742-4fdf-da72-da408d3583ad",
        "colab": {
          "base_uri": "https://localhost:8080/"
        }
      },
      "outputs": [
        {
          "output_type": "execute_result",
          "data": {
            "text/plain": [
              "(10240, 2)"
            ]
          },
          "metadata": {},
          "execution_count": 5
        }
      ],
      "source": [
        "dataSet.shape"
      ]
    },
    {
      "cell_type": "markdown",
      "source": [
        ">Creating distribution graph for reference"
      ],
      "metadata": {
        "id": "_UVjT0pEoI8u"
      }
    },
    {
      "cell_type": "code",
      "execution_count": null,
      "metadata": {
        "execution": {
          "iopub.execute_input": "2021-05-25T06:50:32.144642Z",
          "iopub.status.busy": "2021-05-25T06:50:32.144299Z",
          "iopub.status.idle": "2021-05-25T06:50:32.302296Z",
          "shell.execute_reply": "2021-05-25T06:50:32.301193Z",
          "shell.execute_reply.started": "2021-05-25T06:50:32.144612Z"
        },
        "id": "9j4zlo5kerIH",
        "outputId": "ae6d5ef8-2c22-4363-ce8a-97deb40aca66",
        "colab": {
          "base_uri": "https://localhost:8080/",
          "height": 305
        }
      },
      "outputs": [
        {
          "output_type": "execute_result",
          "data": {
            "text/plain": [
              "<matplotlib.axes._subplots.AxesSubplot at 0x7f0425637fd0>"
            ]
          },
          "metadata": {},
          "execution_count": 6
        },
        {
          "output_type": "display_data",
          "data": {
            "text/plain": [
              "<Figure size 432x288 with 1 Axes>"
            ],
            "image/png": "[encoded data removed]"
          },
          "metadata": {}
        }
      ],
      "source": [
        "def createDistributionGraph(dataFile):\n",
        "    sb.set_theme(style=\"darkgrid\")\n",
        "    return sb.countplot(x='Label', data=dataFile, palette='Set1')\n",
        "\n",
        "createDistributionGraph(dataSet)"
      ]
    },
    {
      "cell_type": "markdown",
      "source": [
        ">Performing quality check on data set to remove any empty, null data row"
      ],
      "metadata": {
        "id": "EZRuA9lmoNGd"
      }
    },
    {
      "cell_type": "code",
      "execution_count": null,
      "metadata": {
        "execution": {
          "iopub.execute_input": "2021-05-25T06:50:32.306146Z",
          "iopub.status.busy": "2021-05-25T06:50:32.305826Z",
          "iopub.status.idle": "2021-05-25T06:50:32.335357Z",
          "shell.execute_reply": "2021-05-25T06:50:32.33417Z",
          "shell.execute_reply.started": "2021-05-25T06:50:32.306118Z"
        },
        "id": "B3qM4G-LerIJ",
        "outputId": "f8e4dfc0-0445-46b3-a4d7-bc2ac4e911eb",
        "colab": {
          "base_uri": "https://localhost:8080/"
        }
      },
      "outputs": [
        {
          "output_type": "stream",
          "name": "stdout",
          "text": [
            "Checking data qualitites...\n",
            "<class 'pandas.core.frame.DataFrame'>\n",
            "RangeIndex: 10240 entries, 0 to 10239\n",
            "Data columns (total 2 columns):\n",
            " #   Column     Non-Null Count  Dtype \n",
            "---  ------     --------------  ----- \n",
            " 0   Statement  10240 non-null  object\n",
            " 1   Label      10240 non-null  bool  \n",
            "dtypes: bool(1), object(1)\n",
            "memory usage: 90.1+ KB\n",
            "check finished.\n"
          ]
        }
      ],
      "source": [
        "def qualityCheckOfData():\n",
        "    print(\"Checking data qualitites...\")\n",
        "    dataSet.isnull().sum()\n",
        "    dataSet.info()  \n",
        "    print(\"check finished.\")\n",
        "qualityCheckOfData()"
      ]
    },
    {
      "cell_type": "code",
      "execution_count": null,
      "metadata": {
        "execution": {
          "iopub.execute_input": "2021-05-25T06:50:32.337061Z",
          "iopub.status.busy": "2021-05-25T06:50:32.336735Z",
          "iopub.status.idle": "2021-05-25T06:50:32.367948Z",
          "shell.execute_reply": "2021-05-25T06:50:32.366933Z",
          "shell.execute_reply.started": "2021-05-25T06:50:32.33703Z"
        },
        "id": "qM9QEEHmerIJ"
      },
      "outputs": [],
      "source": [
        "dataSet = dataSet.dropna()"
      ]
    },
    {
      "cell_type": "code",
      "execution_count": null,
      "metadata": {
        "execution": {
          "iopub.execute_input": "2021-05-25T06:50:32.369967Z",
          "iopub.status.busy": "2021-05-25T06:50:32.369528Z",
          "iopub.status.idle": "2021-05-25T06:50:32.399296Z",
          "shell.execute_reply": "2021-05-25T06:50:32.398264Z",
          "shell.execute_reply.started": "2021-05-25T06:50:32.369924Z"
        },
        "id": "FTxqPB5CerIK",
        "outputId": "27c7eb19-2c8d-4440-f24b-54982ef8a561",
        "colab": {
          "base_uri": "https://localhost:8080/"
        }
      },
      "outputs": [
        {
          "output_type": "stream",
          "name": "stdout",
          "text": [
            "Checking data qualitites...\n",
            "<class 'pandas.core.frame.DataFrame'>\n",
            "Int64Index: 10240 entries, 0 to 10239\n",
            "Data columns (total 2 columns):\n",
            " #   Column     Non-Null Count  Dtype \n",
            "---  ------     --------------  ----- \n",
            " 0   Statement  10240 non-null  object\n",
            " 1   Label      10240 non-null  bool  \n",
            "dtypes: bool(1), object(1)\n",
            "memory usage: 170.0+ KB\n",
            "check finished.\n"
          ]
        }
      ],
      "source": [
        "qualityCheckOfData()"
      ]
    },
    {
      "cell_type": "code",
      "execution_count": null,
      "metadata": {
        "execution": {
          "iopub.execute_input": "2021-05-25T06:50:32.401314Z",
          "iopub.status.busy": "2021-05-25T06:50:32.400868Z",
          "iopub.status.idle": "2021-05-25T06:50:32.407806Z",
          "shell.execute_reply": "2021-05-25T06:50:32.406589Z",
          "shell.execute_reply.started": "2021-05-25T06:50:32.401272Z"
        },
        "id": "x42mA920erIL",
        "outputId": "69b28c7e-fb4a-440a-a07f-85446674b51a",
        "colab": {
          "base_uri": "https://localhost:8080/"
        }
      },
      "outputs": [
        {
          "output_type": "execute_result",
          "data": {
            "text/plain": [
              "(10240, 2)"
            ]
          },
          "metadata": {},
          "execution_count": 10
        }
      ],
      "source": [
        "dataSet.shape"
      ]
    },
    {
      "cell_type": "code",
      "execution_count": null,
      "metadata": {
        "execution": {
          "iopub.execute_input": "2021-05-25T06:50:32.409912Z",
          "iopub.status.busy": "2021-05-25T06:50:32.409162Z",
          "iopub.status.idle": "2021-05-25T06:50:32.426843Z",
          "shell.execute_reply": "2021-05-25T06:50:32.425727Z",
          "shell.execute_reply.started": "2021-05-25T06:50:32.409868Z"
        },
        "id": "mrzOL0FyerIM",
        "outputId": "86643260-65ca-4cef-a59e-20620717fcbd",
        "colab": {
          "base_uri": "https://localhost:8080/",
          "height": 363
        }
      },
      "outputs": [
        {
          "output_type": "execute_result",
          "data": {
            "text/plain": [
              "                                           Statement  Label\n",
              "0  Says the Annies List political group supports ...  False\n",
              "1  When did the decline of coal start? It started...   True\n",
              "2  Hillary Clinton agrees with John McCain \"by vo...   True\n",
              "3  Health care reform legislation is likely to ma...  False\n",
              "4  The economic turnaround started at the end of ...   True\n",
              "5  The Chicago Bears have had more starting quart...   True\n",
              "6  Jim Dunnam has not lived in the district he re...  False\n",
              "7  I'm the only person on this stage who has work...   True\n",
              "8  However, it took $19.5 million in Oregon Lotte...   True\n",
              "9  Says GOP primary opponents Glenn Grothman and ...   True"
            ],
            "text/html": [
              "\n",
              "  <div id=\"df-1bc670db-d8f9-4903-bfd1-0639576265e2\">\n",
              "    <div class=\"colab-df-container\">\n",
              "      <div>\n",
              "<style scoped>\n",
              "    .dataframe tbody tr th:only-of-type {\n",
              "        vertical-align: middle;\n",
              "    }\n",
              "\n",
              "    .dataframe tbody tr th {\n",
              "        vertical-align: top;\n",
              "    }\n",
              "\n",
              "    .dataframe thead th {\n",
              "        text-align: right;\n",
              "    }\n",
              "</style>\n",
              "<table border=\"1\" class=\"dataframe\">\n",
              "  <thead>\n",
              "    <tr style=\"text-align: right;\">\n",
              "      <th></th>\n",
              "      <th>Statement</th>\n",
              "      <th>Label</th>\n",
              "    </tr>\n",
              "  </thead>\n",
              "  <tbody>\n",
              "    <tr>\n",
              "      <th>0</th>\n",
              "      <td>Says the Annies List political group supports ...</td>\n",
              "      <td>False</td>\n",
              "    </tr>\n",
              "    <tr>\n",
              "      <th>1</th>\n",
              "      <td>When did the decline of coal start? It started...</td>\n",
              "      <td>True</td>\n",
              "    </tr>\n",
              "    <tr>\n",
              "      <th>2</th>\n",
              "      <td>Hillary Clinton agrees with John McCain \"by vo...</td>\n",
              "      <td>True</td>\n",
              "    </tr>\n",
              "    <tr>\n",
              "      <th>3</th>\n",
              "      <td>Health care reform legislation is likely to ma...</td>\n",
              "      <td>False</td>\n",
              "    </tr>\n",
              "    <tr>\n",
              "      <th>4</th>\n",
              "      <td>The economic turnaround started at the end of ...</td>\n",
              "      <td>True</td>\n",
              "    </tr>\n",
              "    <tr>\n",
              "      <th>5</th>\n",
              "      <td>The Chicago Bears have had more starting quart...</td>\n",
              "      <td>True</td>\n",
              "    </tr>\n",
              "    <tr>\n",
              "      <th>6</th>\n",
              "      <td>Jim Dunnam has not lived in the district he re...</td>\n",
              "      <td>False</td>\n",
              "    </tr>\n",
              "    <tr>\n",
              "      <th>7</th>\n",
              "      <td>I'm the only person on this stage who has work...</td>\n",
              "      <td>True</td>\n",
              "    </tr>\n",
              "    <tr>\n",
              "      <th>8</th>\n",
              "      <td>However, it took $19.5 million in Oregon Lotte...</td>\n",
              "      <td>True</td>\n",
              "    </tr>\n",
              "    <tr>\n",
              "      <th>9</th>\n",
              "      <td>Says GOP primary opponents Glenn Grothman and ...</td>\n",
              "      <td>True</td>\n",
              "    </tr>\n",
              "  </tbody>\n",
              "</table>\n",
              "</div>\n",
              "      <button class=\"colab-df-convert\" onclick=\"convertToInteractive('df-1bc670db-d8f9-4903-bfd1-0639576265e2')\"\n",
              "              title=\"Convert this dataframe to an interactive table.\"\n",
              "              style=\"display:none;\">\n",
              "        \n",
              "  <svg xmlns=\"http://www.w3.org/2000/svg\" height=\"24px\"viewBox=\"0 0 24 24\"\n",
              "       width=\"24px\">\n",
              "    <path d=\"M0 0h24v24H0V0z\" fill=\"none\"/>\n",
              "    <path d=\"M18.56 5.44l.94 2.06.94-2.06 2.06-.94-2.06-.94-.94-2.06-.94 2.06-2.06.94zm-11 1L8.5 8.5l.94-2.06 2.06-.94-2.06-.94L8.5 2.5l-.94 2.06-2.06.94zm10 10l.94 2.06.94-2.06 2.06-.94-2.06-.94-.94-2.06-.94 2.06-2.06.94z\"/><path d=\"M17.41 7.96l-1.37-1.37c-.4-.4-.92-.59-1.43-.59-.52 0-1.04.2-1.43.59L10.3 9.45l-7.72 7.72c-.78.78-.78 2.05 0 2.83L4 21.41c.39.39.9.59 1.41.59.51 0 1.02-.2 1.41-.59l7.78-7.78 2.81-2.81c.8-.78.8-2.07 0-2.86zM5.41 20L4 18.59l7.72-7.72 1.47 1.35L5.41 20z\"/>\n",
              "  </svg>\n",
              "      </button>\n",
              "      \n",
              "  <style>\n",
              "    .colab-df-container {\n",
              "      display:flex;\n",
              "      flex-wrap:wrap;\n",
              "      gap: 12px;\n",
              "    }\n",
              "\n",
              "    .colab-df-convert {\n",
              "      background-color: #E8F0FE;\n",
              "      border: none;\n",
              "      border-radius: 50%;\n",
              "      cursor: pointer;\n",
              "      display: none;\n",
              "      fill: #1967D2;\n",
              "      height: 32px;\n",
              "      padding: 0 0 0 0;\n",
              "      width: 32px;\n",
              "    }\n",
              "\n",
              "    .colab-df-convert:hover {\n",
              "      background-color: #E2EBFA;\n",
              "      box-shadow: 0px 1px 2px rgba(60, 64, 67, 0.3), 0px 1px 3px 1px rgba(60, 64, 67, 0.15);\n",
              "      fill: #174EA6;\n",
              "    }\n",
              "\n",
              "    [theme=dark] .colab-df-convert {\n",
              "      background-color: #3B4455;\n",
              "      fill: #D2E3FC;\n",
              "    }\n",
              "\n",
              "    [theme=dark] .colab-df-convert:hover {\n",
              "      background-color: #434B5C;\n",
              "      box-shadow: 0px 1px 3px 1px rgba(0, 0, 0, 0.15);\n",
              "      filter: drop-shadow(0px 1px 2px rgba(0, 0, 0, 0.3));\n",
              "      fill: #FFFFFF;\n",
              "    }\n",
              "  </style>\n",
              "\n",
              "      <script>\n",
              "        const buttonEl =\n",
              "          document.querySelector('#df-1bc670db-d8f9-4903-bfd1-0639576265e2 button.colab-df-convert');\n",
              "        buttonEl.style.display =\n",
              "          google.colab.kernel.accessAllowed ? 'block' : 'none';\n",
              "\n",
              "        async function convertToInteractive(key) {\n",
              "          const element = document.querySelector('#df-1bc670db-d8f9-4903-bfd1-0639576265e2');\n",
              "          const dataTable =\n",
              "            await google.colab.kernel.invokeFunction('convertToInteractive',\n",
              "                                                     [key], {});\n",
              "          if (!dataTable) return;\n",
              "\n",
              "          const docLinkHtml = 'Like what you see? Visit the ' +\n",
              "            '<a target=\"_blank\" href=https://colab.research.google.com/notebooks/data_table.ipynb>data table notebook</a>'\n",
              "            + ' to learn more about interactive tables.';\n",
              "          element.innerHTML = '';\n",
              "          dataTable['output_type'] = 'display_data';\n",
              "          await google.colab.output.renderOutput(dataTable, element);\n",
              "          const docLink = document.createElement('div');\n",
              "          docLink.innerHTML = docLinkHtml;\n",
              "          element.appendChild(docLink);\n",
              "        }\n",
              "      </script>\n",
              "    </div>\n",
              "  </div>\n",
              "  "
            ]
          },
          "metadata": {},
          "execution_count": 11
        }
      ],
      "source": [
        "dataSet.head(10)"
      ]
    },
    {
      "cell_type": "code",
      "execution_count": null,
      "metadata": {
        "execution": {
          "iopub.execute_input": "2021-05-25T06:50:32.42892Z",
          "iopub.status.busy": "2021-05-25T06:50:32.42853Z",
          "iopub.status.idle": "2021-05-25T06:50:32.433555Z",
          "shell.execute_reply": "2021-05-25T06:50:32.432625Z",
          "shell.execute_reply.started": "2021-05-25T06:50:32.428889Z"
        },
        "id": "V6iOJuhlerIN"
      },
      "outputs": [],
      "source": [
        "dataSet.reset_index(drop= True,inplace=True)"
      ]
    },
    {
      "cell_type": "code",
      "execution_count": null,
      "metadata": {
        "execution": {
          "iopub.execute_input": "2021-05-25T06:50:32.435265Z",
          "iopub.status.busy": "2021-05-25T06:50:32.434781Z",
          "iopub.status.idle": "2021-05-25T06:50:32.454591Z",
          "shell.execute_reply": "2021-05-25T06:50:32.453613Z",
          "shell.execute_reply.started": "2021-05-25T06:50:32.435224Z"
        },
        "id": "RtaCpFbverIN",
        "outputId": "d1f757bd-5a9e-422d-be74-172f86161bc7",
        "colab": {
          "base_uri": "https://localhost:8080/",
          "height": 363
        }
      },
      "outputs": [
        {
          "output_type": "execute_result",
          "data": {
            "text/plain": [
              "                                           Statement  Label\n",
              "0  Says the Annies List political group supports ...  False\n",
              "1  When did the decline of coal start? It started...   True\n",
              "2  Hillary Clinton agrees with John McCain \"by vo...   True\n",
              "3  Health care reform legislation is likely to ma...  False\n",
              "4  The economic turnaround started at the end of ...   True\n",
              "5  The Chicago Bears have had more starting quart...   True\n",
              "6  Jim Dunnam has not lived in the district he re...  False\n",
              "7  I'm the only person on this stage who has work...   True\n",
              "8  However, it took $19.5 million in Oregon Lotte...   True\n",
              "9  Says GOP primary opponents Glenn Grothman and ...   True"
            ],
            "text/html": [
              "\n",
              "  <div id=\"df-d99a035f-1e5e-4ec1-a4d1-57035e6455a3\">\n",
              "    <div class=\"colab-df-container\">\n",
              "      <div>\n",
              "<style scoped>\n",
              "    .dataframe tbody tr th:only-of-type {\n",
              "        vertical-align: middle;\n",
              "    }\n",
              "\n",
              "    .dataframe tbody tr th {\n",
              "        vertical-align: top;\n",
              "    }\n",
              "\n",
              "    .dataframe thead th {\n",
              "        text-align: right;\n",
              "    }\n",
              "</style>\n",
              "<table border=\"1\" class=\"dataframe\">\n",
              "  <thead>\n",
              "    <tr style=\"text-align: right;\">\n",
              "      <th></th>\n",
              "      <th>Statement</th>\n",
              "      <th>Label</th>\n",
              "    </tr>\n",
              "  </thead>\n",
              "  <tbody>\n",
              "    <tr>\n",
              "      <th>0</th>\n",
              "      <td>Says the Annies List political group supports ...</td>\n",
              "      <td>False</td>\n",
              "    </tr>\n",
              "    <tr>\n",
              "      <th>1</th>\n",
              "      <td>When did the decline of coal start? It started...</td>\n",
              "      <td>True</td>\n",
              "    </tr>\n",
              "    <tr>\n",
              "      <th>2</th>\n",
              "      <td>Hillary Clinton agrees with John McCain \"by vo...</td>\n",
              "      <td>True</td>\n",
              "    </tr>\n",
              "    <tr>\n",
              "      <th>3</th>\n",
              "      <td>Health care reform legislation is likely to ma...</td>\n",
              "      <td>False</td>\n",
              "    </tr>\n",
              "    <tr>\n",
              "      <th>4</th>\n",
              "      <td>The economic turnaround started at the end of ...</td>\n",
              "      <td>True</td>\n",
              "    </tr>\n",
              "    <tr>\n",
              "      <th>5</th>\n",
              "      <td>The Chicago Bears have had more starting quart...</td>\n",
              "      <td>True</td>\n",
              "    </tr>\n",
              "    <tr>\n",
              "      <th>6</th>\n",
              "      <td>Jim Dunnam has not lived in the district he re...</td>\n",
              "      <td>False</td>\n",
              "    </tr>\n",
              "    <tr>\n",
              "      <th>7</th>\n",
              "      <td>I'm the only person on this stage who has work...</td>\n",
              "      <td>True</td>\n",
              "    </tr>\n",
              "    <tr>\n",
              "      <th>8</th>\n",
              "      <td>However, it took $19.5 million in Oregon Lotte...</td>\n",
              "      <td>True</td>\n",
              "    </tr>\n",
              "    <tr>\n",
              "      <th>9</th>\n",
              "      <td>Says GOP primary opponents Glenn Grothman and ...</td>\n",
              "      <td>True</td>\n",
              "    </tr>\n",
              "  </tbody>\n",
              "</table>\n",
              "</div>\n",
              "      <button class=\"colab-df-convert\" onclick=\"convertToInteractive('df-d99a035f-1e5e-4ec1-a4d1-57035e6455a3')\"\n",
              "              title=\"Convert this dataframe to an interactive table.\"\n",
              "              style=\"display:none;\">\n",
              "        \n",
              "  <svg xmlns=\"http://www.w3.org/2000/svg\" height=\"24px\"viewBox=\"0 0 24 24\"\n",
              "       width=\"24px\">\n",
              "    <path d=\"M0 0h24v24H0V0z\" fill=\"none\"/>\n",
              "    <path d=\"M18.56 5.44l.94 2.06.94-2.06 2.06-.94-2.06-.94-.94-2.06-.94 2.06-2.06.94zm-11 1L8.5 8.5l.94-2.06 2.06-.94-2.06-.94L8.5 2.5l-.94 2.06-2.06.94zm10 10l.94 2.06.94-2.06 2.06-.94-2.06-.94-.94-2.06-.94 2.06-2.06.94z\"/><path d=\"M17.41 7.96l-1.37-1.37c-.4-.4-.92-.59-1.43-.59-.52 0-1.04.2-1.43.59L10.3 9.45l-7.72 7.72c-.78.78-.78 2.05 0 2.83L4 21.41c.39.39.9.59 1.41.59.51 0 1.02-.2 1.41-.59l7.78-7.78 2.81-2.81c.8-.78.8-2.07 0-2.86zM5.41 20L4 18.59l7.72-7.72 1.47 1.35L5.41 20z\"/>\n",
              "  </svg>\n",
              "      </button>\n",
              "      \n",
              "  <style>\n",
              "    .colab-df-container {\n",
              "      display:flex;\n",
              "      flex-wrap:wrap;\n",
              "      gap: 12px;\n",
              "    }\n",
              "\n",
              "    .colab-df-convert {\n",
              "      background-color: #E8F0FE;\n",
              "      border: none;\n",
              "      border-radius: 50%;\n",
              "      cursor: pointer;\n",
              "      display: none;\n",
              "      fill: #1967D2;\n",
              "      height: 32px;\n",
              "      padding: 0 0 0 0;\n",
              "      width: 32px;\n",
              "    }\n",
              "\n",
              "    .colab-df-convert:hover {\n",
              "      background-color: #E2EBFA;\n",
              "      box-shadow: 0px 1px 2px rgba(60, 64, 67, 0.3), 0px 1px 3px 1px rgba(60, 64, 67, 0.15);\n",
              "      fill: #174EA6;\n",
              "    }\n",
              "\n",
              "    [theme=dark] .colab-df-convert {\n",
              "      background-color: #3B4455;\n",
              "      fill: #D2E3FC;\n",
              "    }\n",
              "\n",
              "    [theme=dark] .colab-df-convert:hover {\n",
              "      background-color: #434B5C;\n",
              "      box-shadow: 0px 1px 3px 1px rgba(0, 0, 0, 0.15);\n",
              "      filter: drop-shadow(0px 1px 2px rgba(0, 0, 0, 0.3));\n",
              "      fill: #FFFFFF;\n",
              "    }\n",
              "  </style>\n",
              "\n",
              "      <script>\n",
              "        const buttonEl =\n",
              "          document.querySelector('#df-d99a035f-1e5e-4ec1-a4d1-57035e6455a3 button.colab-df-convert');\n",
              "        buttonEl.style.display =\n",
              "          google.colab.kernel.accessAllowed ? 'block' : 'none';\n",
              "\n",
              "        async function convertToInteractive(key) {\n",
              "          const element = document.querySelector('#df-d99a035f-1e5e-4ec1-a4d1-57035e6455a3');\n",
              "          const dataTable =\n",
              "            await google.colab.kernel.invokeFunction('convertToInteractive',\n",
              "                                                     [key], {});\n",
              "          if (!dataTable) return;\n",
              "\n",
              "          const docLinkHtml = 'Like what you see? Visit the ' +\n",
              "            '<a target=\"_blank\" href=https://colab.research.google.com/notebooks/data_table.ipynb>data table notebook</a>'\n",
              "            + ' to learn more about interactive tables.';\n",
              "          element.innerHTML = '';\n",
              "          dataTable['output_type'] = 'display_data';\n",
              "          await google.colab.output.renderOutput(dataTable, element);\n",
              "          const docLink = document.createElement('div');\n",
              "          docLink.innerHTML = docLinkHtml;\n",
              "          element.appendChild(docLink);\n",
              "        }\n",
              "      </script>\n",
              "    </div>\n",
              "  </div>\n",
              "  "
            ]
          },
          "metadata": {},
          "execution_count": 13
        }
      ],
      "source": [
        "dataSet.head(10)"
      ]
    },
    {
      "cell_type": "code",
      "execution_count": null,
      "metadata": {
        "id": "VxJmPO1nerIQ",
        "outputId": "baf865dd-6a1d-44f1-ba2b-82f1271bff5d",
        "colab": {
          "base_uri": "https://localhost:8080/",
          "height": 35
        }
      },
      "outputs": [
        {
          "output_type": "execute_result",
          "data": {
            "text/plain": [
              "'Says 94 percent of Wisconsin employers think the state is heading in the right direction and a majority say they will grow their companies in 2012.'"
            ],
            "application/vnd.google.colaboratory.intrinsic+json": {
              "type": "string"
            }
          },
          "metadata": {},
          "execution_count": 14
        }
      ],
      "source": [
        "dataSet['Statement'][2188]"
      ]
    },
    {
      "cell_type": "code",
      "source": [
        "import nltk\n",
        "nltk.download('stopwords')"
      ],
      "metadata": {
        "colab": {
          "base_uri": "https://localhost:8080/"
        },
        "id": "e6zkSjcNtRZC",
        "outputId": "d205368c-e394-4f6a-febf-f87c51df61eb"
      },
      "execution_count": null,
      "outputs": [
        {
          "output_type": "stream",
          "name": "stdout",
          "text": [
            "[nltk_data] Downloading package stopwords to /root/nltk_data...\n",
            "[nltk_data]   Unzipping corpora/stopwords.zip.\n"
          ]
        },
        {
          "output_type": "execute_result",
          "data": {
            "text/plain": [
              "True"
            ]
          },
          "metadata": {},
          "execution_count": 15
        }
      ]
    },
    {
      "cell_type": "code",
      "execution_count": null,
      "metadata": {
        "execution": {
          "iopub.execute_input": "2021-05-25T06:50:32.51602Z",
          "iopub.status.busy": "2021-05-25T06:50:32.515411Z",
          "iopub.status.idle": "2021-05-25T06:50:32.531829Z",
          "shell.execute_reply": "2021-05-25T06:50:32.530895Z",
          "shell.execute_reply.started": "2021-05-25T06:50:32.515972Z"
        },
        "id": "T1aWcqUXerIQ"
      },
      "outputs": [],
      "source": [
        "lemmatizer = WordNetLemmatizer()\n",
        "stpwrds = list(stopwords.words('english'))"
      ]
    },
    {
      "cell_type": "code",
      "execution_count": null,
      "metadata": {
        "id": "B9SKEsIzerIQ",
        "outputId": "efbe790b-6337-42d8-9a13-ac8a8f8a8bf0",
        "colab": {
          "base_uri": "https://localhost:8080/"
        }
      },
      "outputs": [
        {
          "output_type": "execute_result",
          "data": {
            "text/plain": [
              "['i',\n",
              " 'me',\n",
              " 'my',\n",
              " 'myself',\n",
              " 'we',\n",
              " 'our',\n",
              " 'ours',\n",
              " 'ourselves',\n",
              " 'you',\n",
              " \"you're\",\n",
              " \"you've\",\n",
              " \"you'll\",\n",
              " \"you'd\",\n",
              " 'your',\n",
              " 'yours',\n",
              " 'yourself',\n",
              " 'yourselves',\n",
              " 'he',\n",
              " 'him',\n",
              " 'his',\n",
              " 'himself',\n",
              " 'she',\n",
              " \"she's\",\n",
              " 'her',\n",
              " 'hers',\n",
              " 'herself',\n",
              " 'it',\n",
              " \"it's\",\n",
              " 'its',\n",
              " 'itself',\n",
              " 'they',\n",
              " 'them',\n",
              " 'their',\n",
              " 'theirs',\n",
              " 'themselves',\n",
              " 'what',\n",
              " 'which',\n",
              " 'who',\n",
              " 'whom',\n",
              " 'this',\n",
              " 'that',\n",
              " \"that'll\",\n",
              " 'these',\n",
              " 'those',\n",
              " 'am',\n",
              " 'is',\n",
              " 'are',\n",
              " 'was',\n",
              " 'were',\n",
              " 'be',\n",
              " 'been',\n",
              " 'being',\n",
              " 'have',\n",
              " 'has',\n",
              " 'had',\n",
              " 'having',\n",
              " 'do',\n",
              " 'does',\n",
              " 'did',\n",
              " 'doing',\n",
              " 'a',\n",
              " 'an',\n",
              " 'the',\n",
              " 'and',\n",
              " 'but',\n",
              " 'if',\n",
              " 'or',\n",
              " 'because',\n",
              " 'as',\n",
              " 'until',\n",
              " 'while',\n",
              " 'of',\n",
              " 'at',\n",
              " 'by',\n",
              " 'for',\n",
              " 'with',\n",
              " 'about',\n",
              " 'against',\n",
              " 'between',\n",
              " 'into',\n",
              " 'through',\n",
              " 'during',\n",
              " 'before',\n",
              " 'after',\n",
              " 'above',\n",
              " 'below',\n",
              " 'to',\n",
              " 'from',\n",
              " 'up',\n",
              " 'down',\n",
              " 'in',\n",
              " 'out',\n",
              " 'on',\n",
              " 'off',\n",
              " 'over',\n",
              " 'under',\n",
              " 'again',\n",
              " 'further',\n",
              " 'then',\n",
              " 'once',\n",
              " 'here',\n",
              " 'there',\n",
              " 'when',\n",
              " 'where',\n",
              " 'why',\n",
              " 'how',\n",
              " 'all',\n",
              " 'any',\n",
              " 'both',\n",
              " 'each',\n",
              " 'few',\n",
              " 'more',\n",
              " 'most',\n",
              " 'other',\n",
              " 'some',\n",
              " 'such',\n",
              " 'no',\n",
              " 'nor',\n",
              " 'not',\n",
              " 'only',\n",
              " 'own',\n",
              " 'same',\n",
              " 'so',\n",
              " 'than',\n",
              " 'too',\n",
              " 'very',\n",
              " 's',\n",
              " 't',\n",
              " 'can',\n",
              " 'will',\n",
              " 'just',\n",
              " 'don',\n",
              " \"don't\",\n",
              " 'should',\n",
              " \"should've\",\n",
              " 'now',\n",
              " 'd',\n",
              " 'll',\n",
              " 'm',\n",
              " 'o',\n",
              " 're',\n",
              " 've',\n",
              " 'y',\n",
              " 'ain',\n",
              " 'aren',\n",
              " \"aren't\",\n",
              " 'couldn',\n",
              " \"couldn't\",\n",
              " 'didn',\n",
              " \"didn't\",\n",
              " 'doesn',\n",
              " \"doesn't\",\n",
              " 'hadn',\n",
              " \"hadn't\",\n",
              " 'hasn',\n",
              " \"hasn't\",\n",
              " 'haven',\n",
              " \"haven't\",\n",
              " 'isn',\n",
              " \"isn't\",\n",
              " 'ma',\n",
              " 'mightn',\n",
              " \"mightn't\",\n",
              " 'mustn',\n",
              " \"mustn't\",\n",
              " 'needn',\n",
              " \"needn't\",\n",
              " 'shan',\n",
              " \"shan't\",\n",
              " 'shouldn',\n",
              " \"shouldn't\",\n",
              " 'wasn',\n",
              " \"wasn't\",\n",
              " 'weren',\n",
              " \"weren't\",\n",
              " 'won',\n",
              " \"won't\",\n",
              " 'wouldn',\n",
              " \"wouldn't\"]"
            ]
          },
          "metadata": {},
          "execution_count": 17
        }
      ],
      "source": [
        "stpwrds"
      ]
    },
    {
      "cell_type": "code",
      "execution_count": null,
      "metadata": {
        "id": "0HEAMYXyerIR",
        "outputId": "a4f40d0e-20bb-400d-fd09-a9406445dc3c",
        "colab": {
          "base_uri": "https://localhost:8080/"
        }
      },
      "outputs": [
        {
          "output_type": "stream",
          "name": "stdout",
          "text": [
            "[nltk_data] Downloading package punkt to /root/nltk_data...\n",
            "[nltk_data]   Unzipping tokenizers/punkt.zip.\n",
            "[nltk_data] Downloading package wordnet to /root/nltk_data...\n",
            "[nltk_data]   Unzipping corpora/wordnet.zip.\n",
            "[nltk_data] Downloading package omw-1.4 to /root/nltk_data...\n",
            "[nltk_data]   Unzipping corpora/omw-1.4.zip.\n"
          ]
        },
        {
          "output_type": "execute_result",
          "data": {
            "text/plain": [
              "True"
            ]
          },
          "metadata": {},
          "execution_count": 18
        }
      ],
      "source": [
        "nltk.download('punkt')\n",
        "nltk.download('wordnet')\n",
        "nltk.download('omw-1.4')"
      ]
    },
    {
      "cell_type": "code",
      "execution_count": null,
      "metadata": {
        "execution": {
          "iopub.execute_input": "2021-05-25T06:50:32.54905Z",
          "iopub.status.busy": "2021-05-25T06:50:32.548517Z",
          "iopub.status.idle": "2021-05-25T06:53:51.648153Z",
          "shell.execute_reply": "2021-05-25T06:53:51.647283Z",
          "shell.execute_reply.started": "2021-05-25T06:50:32.549015Z"
        },
        "id": "UJyATga5erIR",
        "colab": {
          "base_uri": "https://localhost:8080/"
        },
        "outputId": "b6186879-d93f-4ab0-c774-a7513bbbafa1"
      },
      "outputs": [
        {
          "output_type": "stream",
          "name": "stderr",
          "text": [
            "/usr/local/lib/python3.7/dist-packages/ipykernel_launcher.py:13: SettingWithCopyWarning: \n",
            "A value is trying to be set on a copy of a slice from a DataFrame\n",
            "\n",
            "See the caveats in the documentation: https://pandas.pydata.org/pandas-docs/stable/user_guide/indexing.html#returning-a-view-versus-a-copy\n",
            "  del sys.path[0]\n",
            "/usr/local/lib/python3.7/dist-packages/ipykernel_launcher.py:14: SettingWithCopyWarning: \n",
            "A value is trying to be set on a copy of a slice from a DataFrame\n",
            "\n",
            "See the caveats in the documentation: https://pandas.pydata.org/pandas-docs/stable/user_guide/indexing.html#returning-a-view-versus-a-copy\n",
            "  \n"
          ]
        }
      ],
      "source": [
        "for x in range(len(dataSet)) :\n",
        "    corpus = []\n",
        "    review = dataSet['Statement'][x]\n",
        "    reviewLable = dataSet['Label'][x]\n",
        "    review = re.sub(r'[^a-zA-Z\\s]', '', review)\n",
        "    review = review.lower()\n",
        "    #reviewLable = reviewLable.lower()\n",
        "    review = nltk.word_tokenize(review)\n",
        "    for y in review :\n",
        "        if y not in stpwrds :\n",
        "            corpus.append(lemmatizer.lemmatize(y))\n",
        "    review = ' '.join(corpus)\n",
        "    dataSet['Statement'][x] = review\n",
        "    dataSet['Label'][x] = reviewLable"
      ]
    },
    {
      "cell_type": "code",
      "execution_count": null,
      "metadata": {
        "execution": {
          "iopub.execute_input": "2021-05-25T07:14:51.798724Z",
          "iopub.status.busy": "2021-05-25T07:14:51.798361Z",
          "iopub.status.idle": "2021-05-25T07:14:51.805617Z",
          "shell.execute_reply": "2021-05-25T07:14:51.804946Z",
          "shell.execute_reply.started": "2021-05-25T07:14:51.798694Z"
        },
        "scrolled": true,
        "id": "XvUHqg8TerIR",
        "outputId": "caa8ca28-cf4c-4b36-d416-b9479445f237",
        "colab": {
          "base_uri": "https://localhost:8080/",
          "height": 206
        }
      },
      "outputs": [
        {
          "output_type": "execute_result",
          "data": {
            "text/plain": [
              "                                           Statement  Label\n",
              "0  say annies list political group support thirdt...  False\n",
              "1  decline coal start started natural gas took st...   True\n",
              "2  hillary clinton agrees john mccain voting give...   True\n",
              "3  health care reform legislation likely mandate ...  False\n",
              "4               economic turnaround started end term   True"
            ],
            "text/html": [
              "\n",
              "  <div id=\"df-11d70405-8924-47eb-b566-1eac3011360e\">\n",
              "    <div class=\"colab-df-container\">\n",
              "      <div>\n",
              "<style scoped>\n",
              "    .dataframe tbody tr th:only-of-type {\n",
              "        vertical-align: middle;\n",
              "    }\n",
              "\n",
              "    .dataframe tbody tr th {\n",
              "        vertical-align: top;\n",
              "    }\n",
              "\n",
              "    .dataframe thead th {\n",
              "        text-align: right;\n",
              "    }\n",
              "</style>\n",
              "<table border=\"1\" class=\"dataframe\">\n",
              "  <thead>\n",
              "    <tr style=\"text-align: right;\">\n",
              "      <th></th>\n",
              "      <th>Statement</th>\n",
              "      <th>Label</th>\n",
              "    </tr>\n",
              "  </thead>\n",
              "  <tbody>\n",
              "    <tr>\n",
              "      <th>0</th>\n",
              "      <td>say annies list political group support thirdt...</td>\n",
              "      <td>False</td>\n",
              "    </tr>\n",
              "    <tr>\n",
              "      <th>1</th>\n",
              "      <td>decline coal start started natural gas took st...</td>\n",
              "      <td>True</td>\n",
              "    </tr>\n",
              "    <tr>\n",
              "      <th>2</th>\n",
              "      <td>hillary clinton agrees john mccain voting give...</td>\n",
              "      <td>True</td>\n",
              "    </tr>\n",
              "    <tr>\n",
              "      <th>3</th>\n",
              "      <td>health care reform legislation likely mandate ...</td>\n",
              "      <td>False</td>\n",
              "    </tr>\n",
              "    <tr>\n",
              "      <th>4</th>\n",
              "      <td>economic turnaround started end term</td>\n",
              "      <td>True</td>\n",
              "    </tr>\n",
              "  </tbody>\n",
              "</table>\n",
              "</div>\n",
              "      <button class=\"colab-df-convert\" onclick=\"convertToInteractive('df-11d70405-8924-47eb-b566-1eac3011360e')\"\n",
              "              title=\"Convert this dataframe to an interactive table.\"\n",
              "              style=\"display:none;\">\n",
              "        \n",
              "  <svg xmlns=\"http://www.w3.org/2000/svg\" height=\"24px\"viewBox=\"0 0 24 24\"\n",
              "       width=\"24px\">\n",
              "    <path d=\"M0 0h24v24H0V0z\" fill=\"none\"/>\n",
              "    <path d=\"M18.56 5.44l.94 2.06.94-2.06 2.06-.94-2.06-.94-.94-2.06-.94 2.06-2.06.94zm-11 1L8.5 8.5l.94-2.06 2.06-.94-2.06-.94L8.5 2.5l-.94 2.06-2.06.94zm10 10l.94 2.06.94-2.06 2.06-.94-2.06-.94-.94-2.06-.94 2.06-2.06.94z\"/><path d=\"M17.41 7.96l-1.37-1.37c-.4-.4-.92-.59-1.43-.59-.52 0-1.04.2-1.43.59L10.3 9.45l-7.72 7.72c-.78.78-.78 2.05 0 2.83L4 21.41c.39.39.9.59 1.41.59.51 0 1.02-.2 1.41-.59l7.78-7.78 2.81-2.81c.8-.78.8-2.07 0-2.86zM5.41 20L4 18.59l7.72-7.72 1.47 1.35L5.41 20z\"/>\n",
              "  </svg>\n",
              "      </button>\n",
              "      \n",
              "  <style>\n",
              "    .colab-df-container {\n",
              "      display:flex;\n",
              "      flex-wrap:wrap;\n",
              "      gap: 12px;\n",
              "    }\n",
              "\n",
              "    .colab-df-convert {\n",
              "      background-color: #E8F0FE;\n",
              "      border: none;\n",
              "      border-radius: 50%;\n",
              "      cursor: pointer;\n",
              "      display: none;\n",
              "      fill: #1967D2;\n",
              "      height: 32px;\n",
              "      padding: 0 0 0 0;\n",
              "      width: 32px;\n",
              "    }\n",
              "\n",
              "    .colab-df-convert:hover {\n",
              "      background-color: #E2EBFA;\n",
              "      box-shadow: 0px 1px 2px rgba(60, 64, 67, 0.3), 0px 1px 3px 1px rgba(60, 64, 67, 0.15);\n",
              "      fill: #174EA6;\n",
              "    }\n",
              "\n",
              "    [theme=dark] .colab-df-convert {\n",
              "      background-color: #3B4455;\n",
              "      fill: #D2E3FC;\n",
              "    }\n",
              "\n",
              "    [theme=dark] .colab-df-convert:hover {\n",
              "      background-color: #434B5C;\n",
              "      box-shadow: 0px 1px 3px 1px rgba(0, 0, 0, 0.15);\n",
              "      filter: drop-shadow(0px 1px 2px rgba(0, 0, 0, 0.3));\n",
              "      fill: #FFFFFF;\n",
              "    }\n",
              "  </style>\n",
              "\n",
              "      <script>\n",
              "        const buttonEl =\n",
              "          document.querySelector('#df-11d70405-8924-47eb-b566-1eac3011360e button.colab-df-convert');\n",
              "        buttonEl.style.display =\n",
              "          google.colab.kernel.accessAllowed ? 'block' : 'none';\n",
              "\n",
              "        async function convertToInteractive(key) {\n",
              "          const element = document.querySelector('#df-11d70405-8924-47eb-b566-1eac3011360e');\n",
              "          const dataTable =\n",
              "            await google.colab.kernel.invokeFunction('convertToInteractive',\n",
              "                                                     [key], {});\n",
              "          if (!dataTable) return;\n",
              "\n",
              "          const docLinkHtml = 'Like what you see? Visit the ' +\n",
              "            '<a target=\"_blank\" href=https://colab.research.google.com/notebooks/data_table.ipynb>data table notebook</a>'\n",
              "            + ' to learn more about interactive tables.';\n",
              "          element.innerHTML = '';\n",
              "          dataTable['output_type'] = 'display_data';\n",
              "          await google.colab.output.renderOutput(dataTable, element);\n",
              "          const docLink = document.createElement('div');\n",
              "          docLink.innerHTML = docLinkHtml;\n",
              "          element.appendChild(docLink);\n",
              "        }\n",
              "      </script>\n",
              "    </div>\n",
              "  </div>\n",
              "  "
            ]
          },
          "metadata": {},
          "execution_count": 20
        }
      ],
      "source": [
        "dataSet.head(5)"
      ]
    },
    {
      "cell_type": "markdown",
      "source": [
        ">Splitting processed data set into **X_train, X_test, Y_train, Y_test**"
      ],
      "metadata": {
        "id": "1M7eQHiToYqe"
      }
    },
    {
      "cell_type": "code",
      "execution_count": null,
      "metadata": {
        "execution": {
          "iopub.execute_input": "2021-05-25T07:16:37.152728Z",
          "iopub.status.busy": "2021-05-25T07:16:37.152216Z",
          "iopub.status.idle": "2021-05-25T07:16:37.163059Z",
          "shell.execute_reply": "2021-05-25T07:16:37.161884Z",
          "shell.execute_reply.started": "2021-05-25T07:16:37.152696Z"
        },
        "id": "25zJUXzverIS"
      },
      "outputs": [],
      "source": [
        "X_train, X_test, Y_train, Y_test = train_test_split(dataSet['Statement'], dataSet['Label'], test_size=0.3, random_state=1)"
      ]
    },
    {
      "cell_type": "code",
      "execution_count": null,
      "metadata": {
        "scrolled": true,
        "id": "lX4ySgqserIS",
        "outputId": "71754189-403c-44d2-f32a-ff97b2b2104f",
        "colab": {
          "base_uri": "https://localhost:8080/"
        }
      },
      "outputs": [
        {
          "output_type": "execute_result",
          "data": {
            "text/plain": [
              "3474    saysbarack obama voted language ofindianas rel...\n",
              "6202                  say apple tim cook business indiana\n",
              "Name: Statement, dtype: object"
            ]
          },
          "metadata": {},
          "execution_count": 22
        }
      ],
      "source": [
        "X_train.head(2)"
      ]
    },
    {
      "cell_type": "code",
      "execution_count": null,
      "metadata": {
        "execution": {
          "iopub.execute_input": "2021-05-25T07:17:50.592597Z",
          "iopub.status.busy": "2021-05-25T07:17:50.592095Z",
          "iopub.status.idle": "2021-05-25T07:17:50.598862Z",
          "shell.execute_reply": "2021-05-25T07:17:50.597641Z",
          "shell.execute_reply.started": "2021-05-25T07:17:50.592566Z"
        },
        "id": "73AzMcKkerIS",
        "outputId": "9f9ae5b5-aff3-4bb1-df17-f4a69be3ce3b",
        "colab": {
          "base_uri": "https://localhost:8080/"
        }
      },
      "outputs": [
        {
          "output_type": "execute_result",
          "data": {
            "text/plain": [
              "7288       say president barack obama think american lazy\n",
              "3597    house delegate seat go uncontested every year ...\n",
              "Name: Statement, dtype: object"
            ]
          },
          "metadata": {},
          "execution_count": 23
        }
      ],
      "source": [
        "X_test.head(2)"
      ]
    },
    {
      "cell_type": "markdown",
      "source": [
        ">Loading TfidfVectorizer object and transforming the training data set into **tfidfVector_X_train and tfidfVec_X_test**"
      ],
      "metadata": {
        "id": "2Fa9zKphodzP"
      }
    },
    {
      "cell_type": "code",
      "execution_count": null,
      "metadata": {
        "execution": {
          "iopub.execute_input": "2021-05-25T07:18:10.901469Z",
          "iopub.status.busy": "2021-05-25T07:18:10.901136Z",
          "iopub.status.idle": "2021-05-25T07:18:22.003384Z",
          "shell.execute_reply": "2021-05-25T07:18:22.002314Z",
          "shell.execute_reply.started": "2021-05-25T07:18:10.90144Z"
        },
        "id": "jRJhpv1terIT"
      },
      "outputs": [],
      "source": [
        "tfidfVector = TfidfVectorizer()\n",
        "tfidfVec_X_train = tfidfVector.fit_transform(X_train)\n",
        "tfidfVec_X_test = tfidfVector.transform(X_test)"
      ]
    },
    {
      "cell_type": "code",
      "execution_count": null,
      "metadata": {
        "execution": {
          "iopub.execute_input": "2021-05-25T07:18:24.321674Z",
          "iopub.status.busy": "2021-05-25T07:18:24.321329Z",
          "iopub.status.idle": "2021-05-25T07:18:24.327063Z",
          "shell.execute_reply": "2021-05-25T07:18:24.325975Z",
          "shell.execute_reply.started": "2021-05-25T07:18:24.321644Z"
        },
        "id": "t1ALY0U0erIT",
        "outputId": "9f433610-b85d-46f1-88d9-03cc0704eaef",
        "colab": {
          "base_uri": "https://localhost:8080/"
        }
      },
      "outputs": [
        {
          "output_type": "execute_result",
          "data": {
            "text/plain": [
              "(7168, 9112)"
            ]
          },
          "metadata": {},
          "execution_count": 25
        }
      ],
      "source": [
        "tfidfVec_X_train.shape\n"
      ]
    },
    {
      "cell_type": "markdown",
      "source": [
        ">In below section we have defined code for plotting the **confusion matrix** for each classifer. Along with this we have code for **plotGraph** where we are plotting a comparison graph between **Training Score** and **Cross-Validation Score**.\n",
        "\n",
        ">A ***confusion matrix*** is a metric tool for evaluating the results of a classification machine learning model. It helps us to visualize important predictive analytics like recall, specificity, accuracy, and precision"
      ],
      "metadata": {
        "id": "gTjFWDtljMVl"
      }
    },
    {
      "cell_type": "code",
      "execution_count": null,
      "metadata": {
        "execution": {
          "iopub.execute_input": "2021-05-25T07:18:31.418929Z",
          "iopub.status.busy": "2021-05-25T07:18:31.418573Z",
          "iopub.status.idle": "2021-05-25T07:18:31.427535Z",
          "shell.execute_reply": "2021-05-25T07:18:31.426865Z",
          "shell.execute_reply.started": "2021-05-25T07:18:31.418889Z"
        },
        "id": "aFu48SBferIU"
      },
      "outputs": [],
      "source": [
        "def plotConfusionMatrixGraph(cm, classes,\n",
        "                          normalize=False,\n",
        "                          title='Confusion matrix',\n",
        "                          cmap=plt.cm.Greens):\n",
        "    \n",
        "    plt.imshow(cm, interpolation='nearest', cmap=cmap)\n",
        "    plt.title(title)\n",
        "    plt.colorbar()\n",
        "    tick_marks = np.arange(len(classes))\n",
        "    plt.xticks(tick_marks, classes, rotation=45)\n",
        "    plt.yticks(tick_marks, classes)\n",
        "\n",
        "    if normalize:\n",
        "        cm = cm.astype('float') / cm.sum(axis=1)[:, np.newaxis]\n",
        "        print(\"Normalized confusion matrix\")\n",
        "    else:\n",
        "        print('Confusion matrix, without normalization')\n",
        "\n",
        "    thresh = cm.max() / 2.\n",
        "    for i, j in itertools.product(range(cm.shape[0]), range(cm.shape[1])):\n",
        "        plt.text(j, i, cm[i, j],\n",
        "                 horizontalalignment=\"center\",\n",
        "                 color=\"black\" if cm[i, j] > thresh else \"black\")\n",
        "\n",
        "    plt.tight_layout()\n",
        "    plt.ylabel('True label')\n",
        "    plt.xlabel('Predicted label')"
      ]
    },
    {
      "cell_type": "code",
      "source": [
        "def getConfusionMatrix(Y_pred):\n",
        "    scores = []\n",
        "    confusion = np.array([[0,0],[0,0]])\n",
        "    #Y_pred = classifier1.predict(tfidfVec_X_test)\n",
        "    score = metrics.accuracy_score(Y_test, Y_pred)\n",
        "    print(f'Accuracy: {round(score*100,3)}%')\n",
        "    cm = metrics.confusion_matrix(Y_test, Y_pred)\n",
        "    plotConfusionMatrixGraph(cm, classes=['FAKE Data', 'REAL Data'])\n",
        "    confusion += confusion_matrix(Y_test,Y_pred)\n",
        "    score = f1_score(Y_test,Y_pred)\n",
        "    scores.append(score)  \n",
        "    print('Score:', sum(scores)/len(scores))\n",
        "\n",
        "    print('Confusion matrix:')\n",
        "    print(confusion)"
      ],
      "metadata": {
        "id": "n7xYbOebijL5"
      },
      "execution_count": null,
      "outputs": []
    },
    {
      "cell_type": "code",
      "source": [
        "def plotGraph(train_sizes, train_scores, test_scores):\n",
        "    train_scores_mean = np.mean(train_scores, axis=1)\n",
        "    train_scores_std = np.std(train_scores, axis=1)\n",
        "    test_scores_mean = np.mean(test_scores, axis=1)\n",
        "    test_scores_std = np.std(test_scores, axis=1)\n",
        "   # plt.figure()\n",
        "    plt.title(\"Classifier\")\n",
        "    plt.xlabel(\"Training examples\")\n",
        "    plt.ylabel(\"Score\")\n",
        "    plt.gca().invert_yaxis()\n",
        "        \n",
        "    # box-like grid\n",
        "    plt.grid()\n",
        "\n",
        "   \n",
        "    plt.plot(train_sizes, train_scores_mean, 'o-', color=\"r\", label=\"Training score\")\n",
        "    plt.plot(train_sizes, test_scores_mean,'o-' , color=\"g\", label=\"Cross-validation score\")\n",
        "\n",
        "        \n",
        "        # plot the std deviation as a transparent range at each training set size\n",
        "    plt.fill_between(train_sizes, train_scores_mean - train_scores_std, train_scores_mean + train_scores_std, alpha=0.1, color=\"r\")\n",
        "    plt.fill_between(train_sizes, test_scores_mean - test_scores_std, test_scores_mean + test_scores_std, alpha=0.1, color=\"g\")\n",
        "\n",
        "        # sizes the window for readability and displays the plot\n",
        "        # shows error from 0 to 1.1\n",
        "    plt.ylim(-.1,1.1)\n",
        "    plt.tight_layout()\n",
        "    plt.legend(loc=\"best\")\n",
        "    plt.show()\n"
      ],
      "metadata": {
        "id": "UUjimSad9KT3"
      },
      "execution_count": null,
      "outputs": []
    },
    {
      "cell_type": "code",
      "source": [
        "dataSet.head(5)\n",
        "#label_train.head(5)"
      ],
      "metadata": {
        "colab": {
          "base_uri": "https://localhost:8080/",
          "height": 206
        },
        "id": "NgJ4gUDEtyj_",
        "outputId": "63a10dbb-40c2-4903-b776-9b56dcfca6a6"
      },
      "execution_count": null,
      "outputs": [
        {
          "output_type": "execute_result",
          "data": {
            "text/plain": [
              "                                           Statement  Label\n",
              "0  say annies list political group support thirdt...  False\n",
              "1  decline coal start started natural gas took st...   True\n",
              "2  hillary clinton agrees john mccain voting give...   True\n",
              "3  health care reform legislation likely mandate ...  False\n",
              "4               economic turnaround started end term   True"
            ],
            "text/html": [
              "\n",
              "  <div id=\"df-fb58330d-9cad-4cfa-abc6-152b149a5000\">\n",
              "    <div class=\"colab-df-container\">\n",
              "      <div>\n",
              "<style scoped>\n",
              "    .dataframe tbody tr th:only-of-type {\n",
              "        vertical-align: middle;\n",
              "    }\n",
              "\n",
              "    .dataframe tbody tr th {\n",
              "        vertical-align: top;\n",
              "    }\n",
              "\n",
              "    .dataframe thead th {\n",
              "        text-align: right;\n",
              "    }\n",
              "</style>\n",
              "<table border=\"1\" class=\"dataframe\">\n",
              "  <thead>\n",
              "    <tr style=\"text-align: right;\">\n",
              "      <th></th>\n",
              "      <th>Statement</th>\n",
              "      <th>Label</th>\n",
              "    </tr>\n",
              "  </thead>\n",
              "  <tbody>\n",
              "    <tr>\n",
              "      <th>0</th>\n",
              "      <td>say annies list political group support thirdt...</td>\n",
              "      <td>False</td>\n",
              "    </tr>\n",
              "    <tr>\n",
              "      <th>1</th>\n",
              "      <td>decline coal start started natural gas took st...</td>\n",
              "      <td>True</td>\n",
              "    </tr>\n",
              "    <tr>\n",
              "      <th>2</th>\n",
              "      <td>hillary clinton agrees john mccain voting give...</td>\n",
              "      <td>True</td>\n",
              "    </tr>\n",
              "    <tr>\n",
              "      <th>3</th>\n",
              "      <td>health care reform legislation likely mandate ...</td>\n",
              "      <td>False</td>\n",
              "    </tr>\n",
              "    <tr>\n",
              "      <th>4</th>\n",
              "      <td>economic turnaround started end term</td>\n",
              "      <td>True</td>\n",
              "    </tr>\n",
              "  </tbody>\n",
              "</table>\n",
              "</div>\n",
              "      <button class=\"colab-df-convert\" onclick=\"convertToInteractive('df-fb58330d-9cad-4cfa-abc6-152b149a5000')\"\n",
              "              title=\"Convert this dataframe to an interactive table.\"\n",
              "              style=\"display:none;\">\n",
              "        \n",
              "  <svg xmlns=\"http://www.w3.org/2000/svg\" height=\"24px\"viewBox=\"0 0 24 24\"\n",
              "       width=\"24px\">\n",
              "    <path d=\"M0 0h24v24H0V0z\" fill=\"none\"/>\n",
              "    <path d=\"M18.56 5.44l.94 2.06.94-2.06 2.06-.94-2.06-.94-.94-2.06-.94 2.06-2.06.94zm-11 1L8.5 8.5l.94-2.06 2.06-.94-2.06-.94L8.5 2.5l-.94 2.06-2.06.94zm10 10l.94 2.06.94-2.06 2.06-.94-2.06-.94-.94-2.06-.94 2.06-2.06.94z\"/><path d=\"M17.41 7.96l-1.37-1.37c-.4-.4-.92-.59-1.43-.59-.52 0-1.04.2-1.43.59L10.3 9.45l-7.72 7.72c-.78.78-.78 2.05 0 2.83L4 21.41c.39.39.9.59 1.41.59.51 0 1.02-.2 1.41-.59l7.78-7.78 2.81-2.81c.8-.78.8-2.07 0-2.86zM5.41 20L4 18.59l7.72-7.72 1.47 1.35L5.41 20z\"/>\n",
              "  </svg>\n",
              "      </button>\n",
              "      \n",
              "  <style>\n",
              "    .colab-df-container {\n",
              "      display:flex;\n",
              "      flex-wrap:wrap;\n",
              "      gap: 12px;\n",
              "    }\n",
              "\n",
              "    .colab-df-convert {\n",
              "      background-color: #E8F0FE;\n",
              "      border: none;\n",
              "      border-radius: 50%;\n",
              "      cursor: pointer;\n",
              "      display: none;\n",
              "      fill: #1967D2;\n",
              "      height: 32px;\n",
              "      padding: 0 0 0 0;\n",
              "      width: 32px;\n",
              "    }\n",
              "\n",
              "    .colab-df-convert:hover {\n",
              "      background-color: #E2EBFA;\n",
              "      box-shadow: 0px 1px 2px rgba(60, 64, 67, 0.3), 0px 1px 3px 1px rgba(60, 64, 67, 0.15);\n",
              "      fill: #174EA6;\n",
              "    }\n",
              "\n",
              "    [theme=dark] .colab-df-convert {\n",
              "      background-color: #3B4455;\n",
              "      fill: #D2E3FC;\n",
              "    }\n",
              "\n",
              "    [theme=dark] .colab-df-convert:hover {\n",
              "      background-color: #434B5C;\n",
              "      box-shadow: 0px 1px 3px 1px rgba(0, 0, 0, 0.15);\n",
              "      filter: drop-shadow(0px 1px 2px rgba(0, 0, 0, 0.3));\n",
              "      fill: #FFFFFF;\n",
              "    }\n",
              "  </style>\n",
              "\n",
              "      <script>\n",
              "        const buttonEl =\n",
              "          document.querySelector('#df-fb58330d-9cad-4cfa-abc6-152b149a5000 button.colab-df-convert');\n",
              "        buttonEl.style.display =\n",
              "          google.colab.kernel.accessAllowed ? 'block' : 'none';\n",
              "\n",
              "        async function convertToInteractive(key) {\n",
              "          const element = document.querySelector('#df-fb58330d-9cad-4cfa-abc6-152b149a5000');\n",
              "          const dataTable =\n",
              "            await google.colab.kernel.invokeFunction('convertToInteractive',\n",
              "                                                     [key], {});\n",
              "          if (!dataTable) return;\n",
              "\n",
              "          const docLinkHtml = 'Like what you see? Visit the ' +\n",
              "            '<a target=\"_blank\" href=https://colab.research.google.com/notebooks/data_table.ipynb>data table notebook</a>'\n",
              "            + ' to learn more about interactive tables.';\n",
              "          element.innerHTML = '';\n",
              "          dataTable['output_type'] = 'display_data';\n",
              "          await google.colab.output.renderOutput(dataTable, element);\n",
              "          const docLink = document.createElement('div');\n",
              "          docLink.innerHTML = docLinkHtml;\n",
              "          element.appendChild(docLink);\n",
              "        }\n",
              "      </script>\n",
              "    </div>\n",
              "  </div>\n",
              "  "
            ]
          },
          "metadata": {},
          "execution_count": 29
        }
      ]
    },
    {
      "cell_type": "markdown",
      "source": [
        ">Below section is dedicated for our first clasifier i.e.***PassiveAggressiveClassifier***. \n",
        ">It belongs to the machine learning category of online learning algorithms. It operates by responding passively to accurate classifications and aggressively to any misclassifications. \n",
        "Here we are using **tfidfVec_X_test** and then plotting confusion matrix and graph between training and cross validation score."
      ],
      "metadata": {
        "id": "IQSxcAclkDEg"
      }
    },
    {
      "cell_type": "code",
      "execution_count": null,
      "metadata": {
        "execution": {
          "iopub.execute_input": "2021-05-25T07:18:36.942583Z",
          "iopub.status.busy": "2021-05-25T07:18:36.942Z",
          "iopub.status.idle": "2021-05-25T07:18:37.23373Z",
          "shell.execute_reply": "2021-05-25T07:18:37.233Z",
          "shell.execute_reply.started": "2021-05-25T07:18:36.942549Z"
        },
        "id": "AzvzgTNserIV",
        "outputId": "37850bd2-9047-47fc-db3c-3c57a39c26ba",
        "colab": {
          "base_uri": "https://localhost:8080/",
          "height": 417
        }
      },
      "outputs": [
        {
          "output_type": "stream",
          "name": "stdout",
          "text": [
            "Accuracy: 55.632%\n",
            "Confusion matrix, without normalization\n",
            "Score: 0.6043541364296082\n",
            "Confusion matrix:\n",
            "[[ 668  663]\n",
            " [ 700 1041]]\n"
          ]
        },
        {
          "output_type": "display_data",
          "data": {
            "text/plain": [
              "<Figure size 432x288 with 2 Axes>"
            ],
            "image/png": "[encoded data removed]"
          },
          "metadata": {}
        }
      ],
      "source": [
        "classifier1 = PassiveAggressiveClassifier()\n",
        "classifier1.fit(tfidfVec_X_train,Y_train)\n",
        "Y_pred = classifier1.predict(tfidfVec_X_test)\n",
        "getConfusionMatrix(Y_pred)\n"
      ]
    },
    {
      "cell_type": "markdown",
      "source": [
        ">Below section is dedicated to our second classifier ***DecisionTreeClassifier***. \n",
        "\n",
        ">A **decision tree** is a **supervised learning technique** that can solve both regression and classification issues. Its capability to use several feature subsets and decision criteria at various stages of categorization"
      ],
      "metadata": {
        "id": "t-KP0YfU4rUM"
      }
    },
    {
      "cell_type": "code",
      "source": [
        "size = 20\n",
        "cv = KFold(size, shuffle=True)\n",
        "\n",
        "train_sizes, train_scores, test_scores = learning_curve(classifier1, tfidfVec_X_train, Y_train, n_jobs=-1, cv=cv, train_sizes=np.linspace(.1, 1.0, 5), verbose=0)\n",
        "print('Learning curve for PassiveAggressiveClassifier')\n",
        "plotGraph(train_sizes, train_scores, test_scores)"
      ],
      "metadata": {
        "colab": {
          "base_uri": "https://localhost:8080/",
          "height": 311
        },
        "id": "Y6RwjAkw9ZCt",
        "outputId": "4fff1b67-3b81-4bfe-9eaf-6c8737479044"
      },
      "execution_count": null,
      "outputs": [
        {
          "output_type": "stream",
          "name": "stdout",
          "text": [
            "Learning curve for PassiveAggressiveClassifier\n"
          ]
        },
        {
          "output_type": "display_data",
          "data": {
            "text/plain": [
              "<Figure size 432x288 with 1 Axes>"
            ],
            "image/png": "[encoded data removed]"
          },
          "metadata": {}
        }
      ]
    },
    {
      "cell_type": "code",
      "execution_count": null,
      "metadata": {
        "id": "5Zwbo0jJerIX",
        "outputId": "fcfac637-3998-4a03-8381-328cd1b06328",
        "colab": {
          "base_uri": "https://localhost:8080/",
          "height": 417
        }
      },
      "outputs": [
        {
          "output_type": "stream",
          "name": "stdout",
          "text": [
            "Accuracy: 56.217%\n",
            "Confusion matrix, without normalization\n",
            "Score: 0.6140602582496414\n",
            "Confusion matrix:\n",
            "[[ 657  674]\n",
            " [ 671 1070]]\n"
          ]
        },
        {
          "output_type": "display_data",
          "data": {
            "text/plain": [
              "<Figure size 432x288 with 2 Axes>"
            ],
            "image/png": "[encoded data removed]"
          },
          "metadata": {}
        }
      ],
      "source": [
        "classifier2 = DecisionTreeClassifier()\n",
        "classifier2.fit(tfidfVec_X_train,Y_train)\n",
        "Y_pred = classifier2.predict(tfidfVec_X_test)\n",
        "getConfusionMatrix(Y_pred)"
      ]
    },
    {
      "cell_type": "code",
      "source": [
        "size = 200\n",
        "cv = KFold(size, shuffle=True)\n",
        "train_sizes, train_scores, test_scores = learning_curve(classifier2, tfidfVec_X_train, Y_train, n_jobs=-1, cv=cv, train_sizes=np.linspace(.1, 1.0, 5), verbose=0)\n",
        "print('Learning curve for DecisionTreeClassifier')\n",
        "plotGraph(train_sizes, train_scores, test_scores)"
      ],
      "metadata": {
        "colab": {
          "base_uri": "https://localhost:8080/",
          "height": 311
        },
        "id": "hXAHjxR09hO1",
        "outputId": "506cf9ff-2cfb-481c-c22b-a8c05ae1a254"
      },
      "execution_count": null,
      "outputs": [
        {
          "output_type": "stream",
          "name": "stdout",
          "text": [
            "Learning curve for DecisionTreeClassifier\n"
          ]
        },
        {
          "output_type": "display_data",
          "data": {
            "text/plain": [
              "<Figure size 432x288 with 1 Axes>"
            ],
            "image/png": "[encoded data removed]"
          },
          "metadata": {}
        }
      ]
    },
    {
      "cell_type": "markdown",
      "source": [
        ">Below section is dedicated to our 3rd classifier ***RandomForestClassifier***\n",
        "\n",
        ">A **random forest** is a meta estimator that employs averaging to increase predicted accuracy and control over-fitting by fitting a number of decision tree classifiers on various sub-samples of the dataset. It improves accuracy by using cross validation."
      ],
      "metadata": {
        "id": "zpb0sLdGk5cm"
      }
    },
    {
      "cell_type": "code",
      "execution_count": null,
      "metadata": {
        "id": "lc-NuQvperIY",
        "outputId": "1a9a9cce-1275-4bde-fbb2-04e0c62c1bbc",
        "colab": {
          "base_uri": "https://localhost:8080/",
          "height": 417
        }
      },
      "outputs": [
        {
          "output_type": "stream",
          "name": "stdout",
          "text": [
            "Accuracy: 56.836%\n",
            "Confusion matrix, without normalization\n",
            "Score: 0.7238650562265722\n",
            "Confusion matrix:\n",
            "[[   8 1323]\n",
            " [   3 1738]]\n"
          ]
        },
        {
          "output_type": "display_data",
          "data": {
            "text/plain": [
              "<Figure size 432x288 with 2 Axes>"
            ],
            "image/png": "[encoded data removed]"
          },
          "metadata": {}
        }
      ],
      "source": [
        "classifier3 = RandomForestClassifier(max_depth=10, random_state=0)\n",
        "classifier3.fit(tfidfVec_X_train,Y_train)\n",
        "Y_pred = classifier3.predict(tfidfVec_X_test)\n",
        "getConfusionMatrix(Y_pred)"
      ]
    },
    {
      "cell_type": "code",
      "source": [
        "size = 500\n",
        "cv = KFold(size, shuffle=True)\n",
        "train_sizes, train_scores, test_scores = learning_curve(classifier3, tfidfVec_X_train, Y_train, n_jobs=-1, cv=cv, train_sizes=np.linspace(.1, 1.0, 5), verbose=0)\n",
        "print('Learning curve for RandomForestClassifier')\n",
        "plotGraph(train_sizes, train_scores, test_scores)"
      ],
      "metadata": {
        "colab": {
          "base_uri": "https://localhost:8080/",
          "height": 311
        },
        "id": "m6umOlH39l6H",
        "outputId": "2d432727-f971-431d-efe0-95d37da8e358"
      },
      "execution_count": null,
      "outputs": [
        {
          "output_type": "stream",
          "name": "stdout",
          "text": [
            "Learning curve for RandomForestClassifier\n"
          ]
        },
        {
          "output_type": "display_data",
          "data": {
            "text/plain": [
              "<Figure size 432x288 with 1 Axes>"
            ],
            "image/png": "[encoded data removed]"
          },
          "metadata": {}
        }
      ]
    },
    {
      "cell_type": "markdown",
      "source": [
        ">Below section is dedicated to our 4th classifier SVC.\n",
        "\n",
        ">SVC, NuSVC, and LinearSVC are three classes in **Scikit-learn** that can do multiclass-class classification.\n",
        "\n",
        ">**SVC** is a **C-based support vector classification system** based on libsvm. sklearn.svm.SVC is the module used by scikit-learn. This class is responsible for multiclass support using a one-to-one mechanism."
      ],
      "metadata": {
        "id": "pDsQsb2XlPI4"
      }
    },
    {
      "cell_type": "code",
      "execution_count": null,
      "metadata": {
        "id": "Z3eL4nhierIZ",
        "outputId": "89771904-8aa0-4f8b-8943-d28ebcb3486c",
        "colab": {
          "base_uri": "https://localhost:8080/",
          "height": 417
        }
      },
      "outputs": [
        {
          "output_type": "stream",
          "name": "stdout",
          "text": [
            "Accuracy: 60.872%\n",
            "Confusion matrix, without normalization\n",
            "Score: 0.6903657908294694\n",
            "Confusion matrix:\n",
            "[[ 530  801]\n",
            " [ 401 1340]]\n"
          ]
        },
        {
          "output_type": "display_data",
          "data": {
            "text/plain": [
              "<Figure size 432x288 with 2 Axes>"
            ],
            "image/png": "[encoded data removed]"
          },
          "metadata": {}
        }
      ],
      "source": [
        "classifier4 = svm.SVC()\n",
        "classifier4.fit(tfidfVec_X_train,Y_train)\n",
        "Y_pred = classifier4.predict(tfidfVec_X_test)\n",
        "getConfusionMatrix(Y_pred)"
      ]
    },
    {
      "cell_type": "code",
      "source": [
        "size = 10\n",
        "cv = KFold(size, shuffle=True)\n",
        "train_sizes, train_scores, test_scores = learning_curve(classifier4, tfidfVec_X_train, Y_train, n_jobs=-1, cv=cv, train_sizes=np.linspace(.1, 1.0, 5), verbose=0)\n",
        "print('Learning curve for SVC')\n",
        "plotGraph(train_sizes, train_scores, test_scores)"
      ],
      "metadata": {
        "colab": {
          "base_uri": "https://localhost:8080/",
          "height": 311
        },
        "id": "kt6-_7pu9rRi",
        "outputId": "6ca0b125-71ae-485c-ada1-b1c064a34f22"
      },
      "execution_count": null,
      "outputs": [
        {
          "output_type": "stream",
          "name": "stdout",
          "text": [
            "Learning curve for SVC\n"
          ]
        },
        {
          "output_type": "display_data",
          "data": {
            "text/plain": [
              "<Figure size 432x288 with 1 Axes>"
            ],
            "image/png": "[encoded data removed]"
          },
          "metadata": {}
        }
      ]
    },
    {
      "cell_type": "markdown",
      "source": [
        ">Below section is dedicated to our 5th classifier **SGDClassifier** \n",
        "\n",
        ">It's a linear classifier that employs SGD for training (it's a linear SVM by default in sklearn that is, looking for the minima of the loss using SGD). \n",
        "It is used to determine the values of parameters/function coefficients that minimize a cost function."
      ],
      "metadata": {
        "id": "WHAb5HqUma92"
      }
    },
    {
      "cell_type": "code",
      "execution_count": null,
      "metadata": {
        "id": "bp8TukOgerIa",
        "outputId": "df715575-7ea1-4e2c-c91b-b3565d4a5b95",
        "colab": {
          "base_uri": "https://localhost:8080/",
          "height": 473
        }
      },
      "outputs": [
        {
          "output_type": "stream",
          "name": "stderr",
          "text": [
            "/usr/local/lib/python3.7/dist-packages/sklearn/linear_model/_stochastic_gradient.py:700: ConvergenceWarning: Maximum number of iteration reached before convergence. Consider increasing max_iter to improve the fit.\n",
            "  ConvergenceWarning,\n"
          ]
        },
        {
          "output_type": "stream",
          "name": "stdout",
          "text": [
            "Accuracy: 58.691%\n",
            "Confusion matrix, without normalization\n",
            "Score: 0.6491567597456456\n",
            "Confusion matrix:\n",
            "[[ 629  702]\n",
            " [ 567 1174]]\n"
          ]
        },
        {
          "output_type": "display_data",
          "data": {
            "text/plain": [
              "<Figure size 432x288 with 2 Axes>"
            ],
            "image/png": "[encoded data removed]"
          },
          "metadata": {}
        }
      ],
      "source": [
        "classifier5 = SGDClassifier(loss=\"hinge\", penalty=\"l2\", max_iter=20)\n",
        "classifier5.fit(tfidfVec_X_train,Y_train)\n",
        "Y_pred = classifier5.predict(tfidfVec_X_test)\n",
        "getConfusionMatrix(Y_pred)"
      ]
    },
    {
      "cell_type": "code",
      "source": [
        "size = 500\n",
        "cv = KFold(size, shuffle=True)\n",
        "train_sizes, train_scores, test_scores = learning_curve(classifier5, tfidfVec_X_train, Y_train, n_jobs=-1, cv=cv, train_sizes=np.linspace(.1, 1.0, 5), verbose=0)\n",
        "print('Learning curve for SGDClassifier')\n",
        "plotGraph(train_sizes, train_scores, test_scores)"
      ],
      "metadata": {
        "colab": {
          "base_uri": "https://localhost:8080/",
          "height": 311
        },
        "id": "vh_W4yhM9vMI",
        "outputId": "63c85276-45ae-4350-ae0f-29a6026602d6"
      },
      "execution_count": null,
      "outputs": [
        {
          "output_type": "stream",
          "name": "stdout",
          "text": [
            "Learning curve for SGDClassifier\n"
          ]
        },
        {
          "output_type": "display_data",
          "data": {
            "text/plain": [
              "<Figure size 432x288 with 1 Axes>"
            ],
            "image/png": "[encoded data removed]"
          },
          "metadata": {}
        }
      ]
    },
    {
      "cell_type": "markdown",
      "source": [
        ">In next section we will predict the user input after loading the 5 models separately. Here each classifier has been loaded and and stored to perform the operartions"
      ],
      "metadata": {
        "id": "bLfgrUewmowQ"
      }
    },
    {
      "cell_type": "code",
      "execution_count": null,
      "metadata": {
        "execution": {
          "iopub.execute_input": "2021-05-25T07:47:25.718988Z",
          "iopub.status.busy": "2021-05-25T07:47:25.718614Z",
          "iopub.status.idle": "2021-05-25T07:47:25.723756Z",
          "shell.execute_reply": "2021-05-25T07:47:25.722952Z",
          "shell.execute_reply.started": "2021-05-25T07:47:25.718959Z"
        },
        "id": "SZnr1wOxerIb"
      },
      "outputs": [],
      "source": [
        "#classfier 1: PassiveAggressiveClassifier\n",
        "pickle.dump(classifier1,open('./model1.pkl', 'wb'))\n",
        "loaded_model1 = pickle.load(open('./model1.pkl', 'rb'))"
      ]
    },
    {
      "cell_type": "code",
      "execution_count": null,
      "metadata": {
        "id": "bi6eTroaerIb"
      },
      "outputs": [],
      "source": [
        "#classifier 2: DecisionTreeClassifier\n",
        "pickle.dump(classifier2,open('./model2.pkl', 'wb'))\n",
        "loaded_model2 = pickle.load(open('./model2.pkl', 'rb'))"
      ]
    },
    {
      "cell_type": "code",
      "execution_count": null,
      "metadata": {
        "id": "MJT-7PLyerIb"
      },
      "outputs": [],
      "source": [
        "#classifier 3: RandomForestClassifier\n",
        "pickle.dump(classifier3,open('./model3.pkl', 'wb'))\n",
        "loaded_model3 = pickle.load(open('./model3.pkl', 'rb'))"
      ]
    },
    {
      "cell_type": "code",
      "execution_count": null,
      "metadata": {
        "id": "k1K8MoH9erIb"
      },
      "outputs": [],
      "source": [
        "#classfier 4: SVC\n",
        "pickle.dump(classifier4,open('./model4.pkl', 'wb'))\n",
        "loaded_model4 = pickle.load(open('./model4.pkl', 'rb'))"
      ]
    },
    {
      "cell_type": "code",
      "execution_count": null,
      "metadata": {
        "id": "1SuOGq_EerIb"
      },
      "outputs": [],
      "source": [
        "#classfier 5: SGDClassifier\n",
        "pickle.dump(classifier5,open('./model5.pkl', 'wb'))\n",
        "loaded_model5 = pickle.load(open('./model5.pkl', 'rb'))"
      ]
    },
    {
      "cell_type": "markdown",
      "source": [
        "> Below is the main method for fake news detect which is accepting a parameter string \"news\" and using all the classifier models to make prediction. The input news is processed by changing all characters to lower case, then using nltk word_tokenizer to tokenize the input news and further doing processing by loading stopwords.  Then the processed input news is transformed using tfidf vectorizer to fit the news into the classifers defined above.\n",
        "\n",
        "\n"
      ],
      "metadata": {
        "id": "q9yCil5nm4s3"
      }
    },
    {
      "cell_type": "code",
      "execution_count": null,
      "metadata": {
        "execution": {
          "iopub.execute_input": "2021-05-25T08:03:34.889218Z",
          "iopub.status.busy": "2021-05-25T08:03:34.888860Z",
          "iopub.status.idle": "2021-05-25T08:03:34.895792Z",
          "shell.execute_reply": "2021-05-25T08:03:34.894703Z",
          "shell.execute_reply.started": "2021-05-25T08:03:34.889189Z"
        },
        "id": "OZGBBMIQerIc"
      },
      "outputs": [],
      "source": [
        "def fakeNewsDetect(news):\n",
        "    review = news\n",
        "    review = re.sub(r'[^a-zA-Z\\s]', '', review)\n",
        "    review = review.lower()\n",
        "    review = nltk.word_tokenize(review)\n",
        "    for y in review :\n",
        "        if y not in stpwrds :\n",
        "            corpus.append(lemmatizer.lemmatize(y))     \n",
        "    input_data = [' '.join(corpus)]\n",
        "    vectorized_input_data = tfidfVector.transform(input_data)\n",
        "    prediction1 = loaded_model1.predict(vectorized_input_data)\n",
        "    prediction2 = loaded_model2.predict(vectorized_input_data)\n",
        "    prediction3 = loaded_model3.predict(vectorized_input_data)\n",
        "    prediction4 = loaded_model4.predict(vectorized_input_data)\n",
        "    prediction5 = loaded_model5.predict(vectorized_input_data)\n",
        "    if prediction1[0] == 0:\n",
        "        print(\"Prediction of the News from PassiveAggressiveClassifier :  Looking Fake⚠ News \")\n",
        "    else:\n",
        "        print(\"Prediction of the News from PassiveAggressiveClassifier : Looking Real News \")\n",
        "        \n",
        "    if prediction2[0] == 0:\n",
        "        print(\"Prediction of the News from DecisionTreeClassifier :  Looking Fake⚠ News \")\n",
        "    else:\n",
        "        print(\"Prediction of the News from DecisionTreeClassifier : Looking Real News \")\n",
        "    \n",
        "    if prediction3[0] == 0:\n",
        "        print(\"Prediction of the News from RandomForestClassifier :  Looking Fake⚠ News \")\n",
        "    else:\n",
        "        print(\"Prediction of the News from RandomForestClassifier : Looking Real News \")\n",
        "    \n",
        "    if prediction4[0] == 0:\n",
        "        print(\"Prediction of the News from SVC :  Looking Fake⚠ News \")\n",
        "    else:\n",
        "        print(\"Prediction of the News from SVC : Looking Real News \")\n",
        "    \n",
        "    if prediction5[0] == 0:\n",
        "        print(\"Prediction of the News from SGDClassifier :  Looking Fake⚠ News \")\n",
        "    else:\n",
        "        print(\"Prediction of the News from SGDClassifier : Looking Real News \")"
      ]
    },
    {
      "cell_type": "markdown",
      "source": [
        ">**Taking user input to predict whether the news is real or fake.**"
      ],
      "metadata": {
        "id": "9J_z5GPeqEog"
      }
    },
    {
      "cell_type": "code",
      "execution_count": null,
      "metadata": {
        "id": "XW7ieru3erId",
        "outputId": "47b26692-762e-419d-d74f-938888387e93",
        "colab": {
          "base_uri": "https://localhost:8080/"
        }
      },
      "outputs": [
        {
          "output_type": "stream",
          "name": "stdout",
          "text": [
            "Please enter the news : test me\n",
            "You entered: test me\n"
          ]
        }
      ],
      "source": [
        "var = input(\"Please enter the news : \")\n",
        "print(\"You entered: \" + str(var))"
      ]
    },
    {
      "cell_type": "markdown",
      "source": [
        ">**Calling main method to detect user input**"
      ],
      "metadata": {
        "id": "YkrRBdouqK_S"
      }
    },
    {
      "cell_type": "code",
      "execution_count": null,
      "metadata": {
        "id": "VviuSFWWerId",
        "outputId": "e9b8d535-a205-4986-de8d-742679b63761",
        "colab": {
          "base_uri": "https://localhost:8080/"
        }
      },
      "outputs": [
        {
          "output_type": "stream",
          "name": "stdout",
          "text": [
            "Prediction of the News from PassiveAggressiveClassifier :  Looking Fake⚠ News \n",
            "Prediction of the News from DecisionTreeClassifier :  Looking Fake⚠ News \n",
            "Prediction of the News from RandomForestClassifier : Looking Real News \n",
            "Prediction of the News from SVC :  Looking Fake⚠ News \n",
            "Prediction of the News from SGDClassifier :  Looking Fake⚠ News \n"
          ]
        }
      ],
      "source": [
        "fakeNewsDetect(var)"
      ]
    }
  ],
  "metadata": {
    "kernelspec": {
      "display_name": "Python 3 (ipykernel)",
      "language": "python",
      "name": "python3"
    },
    "language_info": {
      "codemirror_mode": {
        "name": "ipython",
        "version": 3
      },
      "file_extension": ".py",
      "mimetype": "text/x-python",
      "name": "python",
      "nbconvert_exporter": "python",
      "pygments_lexer": "ipython3",
      "version": "3.10.0"
    },
    "colab": {
      "name": "264-final-version.ipynb",
      "provenance": [],
      "collapsed_sections": [],
      "include_colab_link": true
    }
  },
  "nbformat": 4,
  "nbformat_minor": 0
}