{
  "nbformat": 4,
  "nbformat_minor": 0,
  "metadata": {
    "colab": {
      "name": "Predicting-transaction-categrios",
      "provenance": [],
      "collapsed_sections": [],
      "include_colab_link": true
    },
    "kernelspec": {
      "name": "python3",
      "display_name": "Python 3"
    },
    "language_info": {
      "name": "python"
    }
  },
  "cells": [
    {
      "cell_type": "markdown",
      "metadata": {
        "id": "view-in-github",
        "colab_type": "text"
      },
      "source": [
        "<a href=\"https://colab.research.google.com/github/05satyam/machine-leanring-small-projects/blob/main/Predicting_transaction_categrios.ipynb\" target=\"_parent\"><img src=\"https://colab.research.google.com/assets/colab-badge.svg\" alt=\"Open In Colab\"/></a>"
      ]
    },
    {
      "cell_type": "code",
      "execution_count": 54,
      "metadata": {
        "id": "LTMYEvftMu8K"
      },
      "outputs": [],
      "source": [
        "import pandas as pd\n",
        "import sklearn\n",
        "import itertools\n",
        "import numpy as np\n",
        "import seaborn as sb\n",
        "import re\n",
        "import nltk\n",
        "import pickle\n",
        "from sklearn.model_selection import train_test_split\n",
        "from sklearn.feature_extraction.text import TfidfVectorizer\n",
        "from sklearn import metrics\n",
        "\n",
        "from matplotlib import pyplot as plt\n",
        "from sklearn.linear_model import PassiveAggressiveClassifier\n",
        "from nltk.stem import WordNetLemmatizer\n",
        "from nltk.corpus import stopwords\n",
        "import seaborn as sb\n",
        "from sklearn.tree import DecisionTreeClassifier\n",
        "from sklearn.ensemble import RandomForestClassifier\n",
        "from sklearn import svm\n",
        "from sklearn.linear_model import SGDClassifier\n",
        "from sklearn.model_selection import learning_curve\n",
        "\n",
        "from sklearn.model_selection import KFold\n",
        "import string\n",
        "from sklearn.feature_extraction.text import TfidfVectorizer, CountVectorizer\n",
        "import imp\n",
        "\n",
        "import matplotlib.pyplot as plt\n",
        "from sklearn.naive_bayes import MultinomialNB\n",
        "from sklearn.metrics import classification_report, accuracy_score, confusion_matrix, recall_score\n",
        "from sklearn.metrics import plot_confusion_matrix\n",
        "from sklearn.metrics import classification_report, confusion_matrix, precision_score, f1_score, recall_score, accuracy_score, plot_confusion_matrix\n",
        "from sklearn.metrics import ConfusionMatrixDisplay\n",
        "from sklearn.neighbors import KNeighborsClassifier\n",
        "from sklearn.ensemble import GradientBoostingClassifier\n",
        "from xgboost import XGBClassifier"
      ]
    },
    {
      "cell_type": "code",
      "source": [
        "import nltk\n",
        "nltk.download('stopwords')\n",
        "nltk.download('punkt')\n",
        "nltk.download('wordnet')\n",
        "nltk.download('omw-1.4')"
      ],
      "metadata": {
        "colab": {
          "base_uri": "https://localhost:8080/"
        },
        "id": "d3khfvJCGykQ",
        "outputId": "24d73603-10f5-49d0-9651-e66e65a09ee9"
      },
      "execution_count": 214,
      "outputs": [
        {
          "output_type": "stream",
          "name": "stderr",
          "text": [
            "[nltk_data] Downloading package stopwords to /root/nltk_data...\n",
            "[nltk_data]   Package stopwords is already up-to-date!\n",
            "[nltk_data] Downloading package punkt to /root/nltk_data...\n",
            "[nltk_data]   Package punkt is already up-to-date!\n",
            "[nltk_data] Downloading package wordnet to /root/nltk_data...\n",
            "[nltk_data]   Package wordnet is already up-to-date!\n",
            "[nltk_data] Downloading package omw-1.4 to /root/nltk_data...\n",
            "[nltk_data]   Package omw-1.4 is already up-to-date!\n"
          ]
        },
        {
          "output_type": "execute_result",
          "data": {
            "text/plain": [
              "True"
            ]
          },
          "metadata": {},
          "execution_count": 214
        }
      ]
    },
    {
      "cell_type": "code",
      "source": [
        "def scoring(y_real, y_pred, model, X_data): # change y_test to y_real\n",
        "    # Calculates and prints scores for the model\n",
        "    accuracy = accuracy_score(y_real, y_pred)\n",
        "    precision = precision_score(y_real, y_pred, average='macro')\n",
        "    recall = recall_score(y_real, y_pred, average='macro')\n",
        "    f1 = f1_score(y_real, y_pred, average='macro')\n",
        "\n",
        "    print(\"Accuracy: {:.1%}\".format(accuracy))\n",
        "    print(\"Precision: {:.1%}\".format(precision))\n",
        "    print(\"Recall: {:.1%}\".format(recall))\n",
        "    print(\"F1: {:.1%}\".format(f1))\n",
        "\n",
        "    print('\\n')\n",
        "    print(\"Classification Report\")\n",
        "    print('\\n')\n",
        "    print(classification_report(y_real, y_pred))\n",
        "    # Plots a confusion matrix graphic (defined below)\n",
        "    plot = plot_c_matrix(model, X_data, y_real)\n",
        "\n",
        "def plot_c_matrix(model, X_test, y_real):\n",
        "    # Generates a confusion matrix graphic\n",
        "    plot_confusion_matrix(model, X_test, y_real)\n",
        "    plt.grid(False)\n",
        "    plt.show()\n"
      ],
      "metadata": {
        "id": "uZK67YATUZ3y"
      },
      "execution_count": 215,
      "outputs": []
    },
    {
      "cell_type": "code",
      "source": [
        "dataSet = pd.read_excel(\"/content/TrainingDataSet.xlsx\")"
      ],
      "metadata": {
        "id": "HhH-ofMvF6RA"
      },
      "execution_count": 3,
      "outputs": []
    },
    {
      "cell_type": "code",
      "source": [
        "\n",
        "#object of the dataframe as csv file\n",
        "dataSet.to_csv (\"TrainingDataSet.csv\", index = None, header=True)\n",
        "\n",
        "# read csv file and convert into object of dataset\n",
        "df = pd.DataFrame(pd.read_csv(\"TrainingDataSet.csv\"))\n",
        "\n",
        "\n",
        "\n"
      ],
      "metadata": {
        "id": "4E8iMm4SNeWd"
      },
      "execution_count": null,
      "outputs": []
    },
    {
      "cell_type": "code",
      "source": [
        "dataSet.shape"
      ],
      "metadata": {
        "colab": {
          "base_uri": "https://localhost:8080/"
        },
        "id": "5gZ6TVBoGvkU",
        "outputId": "0808ba2d-4326-4bc3-da13-bc3e19db6522"
      },
      "execution_count": 4,
      "outputs": [
        {
          "output_type": "execute_result",
          "data": {
            "text/plain": [
              "(40000, 14)"
            ]
          },
          "metadata": {},
          "execution_count": 4
        }
      ]
    },
    {
      "cell_type": "code",
      "source": [
        "lemmatizer = WordNetLemmatizer()\n",
        "stpwrds = list(stopwords.words('english'))\n",
        "\n",
        "stopwords_list = stopwords.words('english') + list(string.punctuation)\n",
        "stopwords_list += [\"''\", '\"\"', '...','.', '``', 'RECUR DEBIT CRD PMT', 'CHECK CRD PURCHASE', 'CHECK CRD PURCHASE', 'CHECK', 'PURCHASE', 'PUR', 'DEBIT','INTL', 'CARD', 'RECUR','CRD','PMT']\n"
      ],
      "metadata": {
        "id": "jwmmRaBoG5MT"
      },
      "execution_count": 7,
      "outputs": []
    },
    {
      "cell_type": "code",
      "source": [
        "newDataset = dataSet.loc[:, ['trans_desc','default_brand','coalesced_brand','Category']]"
      ],
      "metadata": {
        "id": "5_LJJIj8HIGu"
      },
      "execution_count": 9,
      "outputs": []
    },
    {
      "cell_type": "code",
      "source": [
        "newDataset['transc_detail'] = newDataset['default_brand'].str.lower().str.replace(r'[^\\w\\s]+', '') + \" \" + newDataset['coalesced_brand'].str.lower().str.replace(r'[^\\w\\s]+', '')\n",
        "newDataset['transc_detail']=newDataset['transc_detail'].fillna(\"\")"
      ],
      "metadata": {
        "colab": {
          "base_uri": "https://localhost:8080/"
        },
        "id": "z8eaIXXqLvPP",
        "outputId": "31f4240e-3c83-41dc-c0ee-d7e1d4827cdb"
      },
      "execution_count": 154,
      "outputs": [
        {
          "output_type": "stream",
          "name": "stderr",
          "text": [
            "/usr/local/lib/python3.7/dist-packages/ipykernel_launcher.py:1: FutureWarning: The default value of regex will change from True to False in a future version.\n",
            "  \"\"\"Entry point for launching an IPython kernel.\n"
          ]
        }
      ]
    },
    {
      "cell_type": "code",
      "source": [
        "from collections import OrderedDict\n",
        "\n",
        "newDataset['transc_detail'] = (newDataset['transc_detail'].str.split()\n",
        "                              .apply(lambda x: OrderedDict.fromkeys(x).keys())\n",
        "                              .str.join(' '))"
      ],
      "metadata": {
        "id": "2rLT21mlX5TU"
      },
      "execution_count": 157,
      "outputs": []
    },
    {
      "cell_type": "code",
      "source": [
        "newDataset['transc_detail']"
      ],
      "metadata": {
        "colab": {
          "base_uri": "https://localhost:8080/"
        },
        "id": "CfD66O-9WhNl",
        "outputId": "bb62ca95-3f65-44c5-a643-decf8d0fa0be"
      },
      "execution_count": 158,
      "outputs": [
        {
          "output_type": "execute_result",
          "data": {
            "text/plain": [
              "0                                 delta dental of a11\n",
              "1                                    surety solutions\n",
              "2                                       the copy stop\n",
              "3                                    market alert inc\n",
              "4        pert ner perfect hometown insurance partners\n",
              "                             ...                     \n",
              "39995                  allied fidelity se investments\n",
              "39996                              foremost insurance\n",
              "39997                                   propay usa in\n",
              "39998                              cowboy finance llc\n",
              "39999                              jonjon deli grocer\n",
              "Name: transc_detail, Length: 40000, dtype: object"
            ]
          },
          "metadata": {},
          "execution_count": 158
        }
      ]
    },
    {
      "cell_type": "code",
      "source": [
        "newDataset['trans_desc'] = newDataset['trans_desc'].apply(lambda x: ' '.join([word for word in x.split() if word not in (stopwords_list)]))"
      ],
      "metadata": {
        "id": "3cKfYspXbYv5"
      },
      "execution_count": 73,
      "outputs": []
    },
    {
      "cell_type": "code",
      "source": [
        "newDataset['trans_desc'] = newDataset['trans_desc'].str.replace('\\d+', '')"
      ],
      "metadata": {
        "colab": {
          "base_uri": "https://localhost:8080/"
        },
        "id": "Zn56aOP3sPZs",
        "outputId": "eac140e7-f0c1-427a-8d3f-a7453abb0e95"
      },
      "execution_count": 74,
      "outputs": [
        {
          "output_type": "stream",
          "name": "stderr",
          "text": [
            "/usr/local/lib/python3.7/dist-packages/ipykernel_launcher.py:1: FutureWarning: The default value of regex will change from True to False in a future version.\n",
            "  \"\"\"Entry point for launching an IPython kernel.\n"
          ]
        }
      ]
    },
    {
      "cell_type": "code",
      "source": [
        "import re"
      ],
      "metadata": {
        "id": "eJsyKHgCUWZa"
      },
      "execution_count": 76,
      "outputs": []
    },
    {
      "cell_type": "code",
      "source": [
        "def check(string, sub_str):\n",
        "    if (string!=(sub_str)):\n",
        "        return string + sub_str\n",
        "    elif (sub_str!=(string) ):\n",
        "        return string + sub_str\n",
        "    else :\n",
        "       return string    \n",
        " "
      ],
      "metadata": {
        "id": "3JxKvgp4SQDY"
      },
      "execution_count": 159,
      "outputs": []
    },
    {
      "cell_type": "code",
      "source": [
        "newDataset['Category'].unique()"
      ],
      "metadata": {
        "colab": {
          "base_uri": "https://localhost:8080/"
        },
        "id": "oHCXnDgLN6GA",
        "outputId": "dbfeab62-e1f2-4b6d-e3f8-2be342e0d858"
      },
      "execution_count": 160,
      "outputs": [
        {
          "output_type": "execute_result",
          "data": {
            "text/plain": [
              "array([0, 1, 2, 3, 4, 5, 6, 7, 8, 9])"
            ]
          },
          "metadata": {},
          "execution_count": 160
        }
      ]
    },
    {
      "cell_type": "code",
      "source": [
        "catg_dict ={'Finance': 0, 'Services to Transport': 1, 'Communication Services': 2, \n",
        "               'Property and Business Services': 3, 'Travel': 4, 'Entertainment':5, 'Education': 6, 'Health and Community Services': 7,'Trade, Professional and Personal Services':8,'Retail Trade':9}"
      ],
      "metadata": {
        "id": "tUFFoQo0OHq-"
      },
      "execution_count": 161,
      "outputs": []
    },
    {
      "cell_type": "code",
      "source": [
        "newDataset['Category'].replace(catg_dict, inplace=True)"
      ],
      "metadata": {
        "id": "gS839nBtQUme"
      },
      "execution_count": 162,
      "outputs": []
    },
    {
      "cell_type": "code",
      "source": [
        "newDataset['Category'].unique()"
      ],
      "metadata": {
        "colab": {
          "base_uri": "https://localhost:8080/"
        },
        "id": "kG-3JyqyQcLr",
        "outputId": "598c40a8-cc09-490a-8d7d-048ee8bd46c3"
      },
      "execution_count": 163,
      "outputs": [
        {
          "output_type": "execute_result",
          "data": {
            "text/plain": [
              "array([0, 1, 2, 3, 4, 5, 6, 7, 8, 9])"
            ]
          },
          "metadata": {},
          "execution_count": 163
        }
      ]
    },
    {
      "cell_type": "code",
      "source": [
        "X = newDataset.drop(['Category'], axis=1)\n",
        "y = newDataset['Category']\n"
      ],
      "metadata": {
        "id": "FrDqUd85QpIp"
      },
      "execution_count": 165,
      "outputs": []
    },
    {
      "cell_type": "code",
      "source": [
        "X_train, X_test, y_train, y_test = train_test_split(X['transc_detail'], y, test_size=0.20, random_state=200)"
      ],
      "metadata": {
        "id": "uuGEYTbDQvpe"
      },
      "execution_count": 166,
      "outputs": []
    },
    {
      "cell_type": "code",
      "source": [
        "X_train.shape"
      ],
      "metadata": {
        "colab": {
          "base_uri": "https://localhost:8080/"
        },
        "id": "9TMVU7XVQ1b5",
        "outputId": "b597dfb7-ac18-469e-b118-68582149d715"
      },
      "execution_count": 167,
      "outputs": [
        {
          "output_type": "execute_result",
          "data": {
            "text/plain": [
              "(32000,)"
            ]
          },
          "metadata": {},
          "execution_count": 167
        }
      ]
    },
    {
      "cell_type": "code",
      "source": [
        "X_test.shape"
      ],
      "metadata": {
        "colab": {
          "base_uri": "https://localhost:8080/"
        },
        "id": "CqJrt439Q3YN",
        "outputId": "0d3bde0d-bd62-4824-ba2d-4e55f00e184f"
      },
      "execution_count": 168,
      "outputs": [
        {
          "output_type": "execute_result",
          "data": {
            "text/plain": [
              "(8000,)"
            ]
          },
          "metadata": {},
          "execution_count": 168
        }
      ]
    },
    {
      "cell_type": "code",
      "source": [
        "y_train.shape"
      ],
      "metadata": {
        "colab": {
          "base_uri": "https://localhost:8080/"
        },
        "id": "qEGRBJO9Q7mX",
        "outputId": "46f99805-5b2d-4681-ad69-e01a83d48006"
      },
      "execution_count": 170,
      "outputs": [
        {
          "output_type": "execute_result",
          "data": {
            "text/plain": [
              "(32000,)"
            ]
          },
          "metadata": {},
          "execution_count": 170
        }
      ]
    },
    {
      "cell_type": "code",
      "source": [
        "vectorizer = TfidfVectorizer(ngram_range=(1,2), max_features=1000000)\n",
        "vect_X_train = vectorizer.fit_transform(X_train)\n",
        "feature_names =  vectorizer.get_feature_names()"
      ],
      "metadata": {
        "colab": {
          "base_uri": "https://localhost:8080/"
        },
        "id": "ZgD4ZxYxREIX",
        "outputId": "71416e99-d7f5-47c5-df9a-27aa66f9968b"
      },
      "execution_count": 171,
      "outputs": [
        {
          "output_type": "stream",
          "name": "stderr",
          "text": [
            "/usr/local/lib/python3.7/dist-packages/sklearn/utils/deprecation.py:87: FutureWarning: Function get_feature_names is deprecated; get_feature_names is deprecated in 1.0 and will be removed in 1.2. Please use get_feature_names_out instead.\n",
            "  warnings.warn(msg, category=FutureWarning)\n"
          ]
        }
      ]
    },
    {
      "cell_type": "code",
      "source": [
        "vect_X_train.shape"
      ],
      "metadata": {
        "colab": {
          "base_uri": "https://localhost:8080/"
        },
        "id": "QHC6FbFiRNNn",
        "outputId": "27a6e9a5-fd16-46ac-8e30-3230ad30fbf4"
      },
      "execution_count": 173,
      "outputs": [
        {
          "output_type": "execute_result",
          "data": {
            "text/plain": [
              "(32000, 99358)"
            ]
          },
          "metadata": {},
          "execution_count": 173
        }
      ]
    },
    {
      "cell_type": "code",
      "source": [
        "vect_X_test = vectorizer.transform(X_test)"
      ],
      "metadata": {
        "id": "ljSLxR0DRPBM"
      },
      "execution_count": 174,
      "outputs": []
    },
    {
      "cell_type": "markdown",
      "source": [
        "MultinomialNB---not good"
      ],
      "metadata": {
        "id": "FS0Q2oeXTSpI"
      }
    },
    {
      "cell_type": "code",
      "source": [
        "cls = MultinomialNB()\n",
        "cls.fit(vect_X_train, y_train)\n",
        "# y_pred = cls.predict(vect_X_test)\n",
        "y_pred = cls.predict(vect_X_test)\n",
        "np.unique(y_pred)"
      ],
      "metadata": {
        "colab": {
          "base_uri": "https://localhost:8080/"
        },
        "id": "3B9_3-LrRSGJ",
        "outputId": "dafc4d64-1513-4559-bde4-dd853235e71b"
      },
      "execution_count": 221,
      "outputs": [
        {
          "output_type": "execute_result",
          "data": {
            "text/plain": [
              "array([1, 3, 4, 5, 7, 8, 9])"
            ]
          },
          "metadata": {},
          "execution_count": 221
        }
      ]
    },
    {
      "cell_type": "code",
      "source": [
        "f'The accuracy score is: {round(accuracy_score(y_test, test_y_pred)*100, 2)}%'"
      ],
      "metadata": {
        "colab": {
          "base_uri": "https://localhost:8080/",
          "height": 35
        },
        "id": "0kCGTK66RkMh",
        "outputId": "e24117e6-944f-4c49-ec05-f9e9479613e3"
      },
      "execution_count": 219,
      "outputs": [
        {
          "output_type": "execute_result",
          "data": {
            "text/plain": [
              "'The accuracy score is: 67.85%'"
            ],
            "application/vnd.google.colaboratory.intrinsic+json": {
              "type": "string"
            }
          },
          "metadata": {},
          "execution_count": 219
        }
      ]
    },
    {
      "cell_type": "code",
      "source": [
        "scoring(y_test, test_y_pred, cls, vect_X_test)"
      ],
      "metadata": {
        "colab": {
          "base_uri": "https://localhost:8080/",
          "height": 799
        },
        "id": "vmk_2r1pTOXJ",
        "outputId": "db684e69-3a3d-4a5d-cb1a-9ba2675a607d"
      },
      "execution_count": 220,
      "outputs": [
        {
          "output_type": "stream",
          "name": "stdout",
          "text": [
            "Accuracy: 67.8%\n",
            "Precision: 81.4%\n",
            "Recall: 44.8%\n",
            "F1: 52.9%\n",
            "\n",
            "\n",
            "Classification Report\n",
            "\n",
            "\n",
            "              precision    recall  f1-score   support\n",
            "\n",
            "           0       0.89      0.24      0.38        33\n",
            "           1       0.83      0.53      0.65       459\n",
            "           2       0.93      0.24      0.38        59\n",
            "           3       0.80      0.21      0.33       233\n",
            "           4       0.85      0.42      0.56       287\n",
            "           5       0.81      0.67      0.73      2251\n",
            "           6       0.82      0.12      0.20        77\n",
            "           7       0.89      0.66      0.76       871\n",
            "           8       0.77      0.52      0.62      1028\n",
            "           9       0.56      0.87      0.68      2702\n",
            "\n",
            "    accuracy                           0.68      8000\n",
            "   macro avg       0.81      0.45      0.53      8000\n",
            "weighted avg       0.73      0.68      0.67      8000\n",
            "\n"
          ]
        },
        {
          "output_type": "stream",
          "name": "stderr",
          "text": [
            "/usr/local/lib/python3.7/dist-packages/sklearn/utils/deprecation.py:87: FutureWarning: Function plot_confusion_matrix is deprecated; Function `plot_confusion_matrix` is deprecated in 1.0 and will be removed in 1.2. Use one of the class methods: ConfusionMatrixDisplay.from_predictions or ConfusionMatrixDisplay.from_estimator.\n",
            "  warnings.warn(msg, category=FutureWarning)\n"
          ]
        },
        {
          "output_type": "display_data",
          "data": {
            "text/plain": [
              "<Figure size 432x288 with 2 Axes>"
            ],
            "image/png": "[encoded data removed]"
          },
          "metadata": {
            "needs_background": "light"
          }
        }
      ]
    },
    {
      "cell_type": "markdown",
      "source": [
        "RANDOM FOREST ---- NOT GOOD"
      ],
      "metadata": {
        "id": "3RTflaTZPxHr"
      }
    },
    {
      "cell_type": "code",
      "source": [
        "rdmfst = RandomForestClassifier(max_depth=20)\n",
        "rdmfst.fit(vect_X_train, y_train)\n",
        "y_pred = rdmfst.predict(vect_X_test)"
      ],
      "metadata": {
        "id": "M9fPHj14Pya-"
      },
      "execution_count": 222,
      "outputs": []
    },
    {
      "cell_type": "code",
      "source": [
        "f'The accuracy score is: {round(accuracy_score(y_test, test_y_pred)*100, 2)}%'"
      ],
      "metadata": {
        "colab": {
          "base_uri": "https://localhost:8080/",
          "height": 35
        },
        "id": "3zF8iAcVP3xv",
        "outputId": "777d3226-a5de-4b45-a844-5ceaa630d2fb"
      },
      "execution_count": 183,
      "outputs": [
        {
          "output_type": "execute_result",
          "data": {
            "text/plain": [
              "'The accuracy score is: 34.39%'"
            ],
            "application/vnd.google.colaboratory.intrinsic+json": {
              "type": "string"
            }
          },
          "metadata": {},
          "execution_count": 183
        }
      ]
    },
    {
      "cell_type": "code",
      "source": [
        "scoring(y_test, test_y_pred, rdmfst, vect_X_test)"
      ],
      "metadata": {
        "colab": {
          "base_uri": "https://localhost:8080/",
          "height": 799
        },
        "id": "OzYPchrQP7OA",
        "outputId": "68b0883f-ca26-4eb3-dd8f-87b6df0791cd"
      },
      "execution_count": 184,
      "outputs": [
        {
          "output_type": "stream",
          "name": "stdout",
          "text": [
            "Accuracy: 34.4%\n",
            "Precision: 43.2%\n",
            "Recall: 24.1%\n",
            "F1: 24.2%\n",
            "\n",
            "\n",
            "Classification Report\n",
            "\n",
            "\n",
            "              precision    recall  f1-score   support\n",
            "\n",
            "           0       1.00      0.09      0.17        33\n",
            "           1       0.11      0.44      0.18       459\n",
            "           2       0.36      0.15      0.21        59\n",
            "           3       0.05      0.09      0.07       233\n",
            "           4       0.49      0.12      0.20       287\n",
            "           5       0.66      0.29      0.41      2251\n",
            "           6       0.02      0.19      0.03        77\n",
            "           7       0.80      0.21      0.34       871\n",
            "           8       0.34      0.34      0.34      1028\n",
            "           9       0.48      0.47      0.47      2702\n",
            "\n",
            "    accuracy                           0.34      8000\n",
            "   macro avg       0.43      0.24      0.24      8000\n",
            "weighted avg       0.51      0.34      0.38      8000\n",
            "\n"
          ]
        },
        {
          "output_type": "stream",
          "name": "stderr",
          "text": [
            "/usr/local/lib/python3.7/dist-packages/sklearn/utils/deprecation.py:87: FutureWarning: Function plot_confusion_matrix is deprecated; Function `plot_confusion_matrix` is deprecated in 1.0 and will be removed in 1.2. Use one of the class methods: ConfusionMatrixDisplay.from_predictions or ConfusionMatrixDisplay.from_estimator.\n",
            "  warnings.warn(msg, category=FutureWarning)\n"
          ]
        },
        {
          "output_type": "display_data",
          "data": {
            "text/plain": [
              "<Figure size 432x288 with 2 Axes>"
            ],
            "image/png": "[encoded data removed]"
          },
          "metadata": {
            "needs_background": "light"
          }
        }
      ]
    },
    {
      "cell_type": "markdown",
      "source": [
        "DECISION TREE"
      ],
      "metadata": {
        "id": "4sqaY566QHrY"
      }
    },
    {
      "cell_type": "code",
      "source": [
        "dtree = DecisionTreeClassifier(max_depth=50)\n",
        "dtree.fit(vect_X_train, y_train)"
      ],
      "metadata": {
        "colab": {
          "base_uri": "https://localhost:8080/"
        },
        "id": "9jFwuc8wQJG2",
        "outputId": "cefddab5-eb06-4f04-fccc-2773d1d5b39a"
      },
      "execution_count": 197,
      "outputs": [
        {
          "output_type": "execute_result",
          "data": {
            "text/plain": [
              "DecisionTreeClassifier(max_depth=50)"
            ]
          },
          "metadata": {},
          "execution_count": 197
        }
      ]
    },
    {
      "cell_type": "code",
      "source": [
        "test_y_pred = dtree.predict(vect_X_test)"
      ],
      "metadata": {
        "id": "Vw55BLRqQVzw"
      },
      "execution_count": 198,
      "outputs": []
    },
    {
      "cell_type": "code",
      "source": [
        "f'The accuracy score is: {round(accuracy_score(y_test, test_y_pred)*100, 2)}%'"
      ],
      "metadata": {
        "colab": {
          "base_uri": "https://localhost:8080/",
          "height": 35
        },
        "id": "bqv7d6TNQZH1",
        "outputId": "dfd603f3-99e3-4ca6-eb59-157f1d943511"
      },
      "execution_count": 199,
      "outputs": [
        {
          "output_type": "execute_result",
          "data": {
            "text/plain": [
              "'The accuracy score is: 57.66%'"
            ],
            "application/vnd.google.colaboratory.intrinsic+json": {
              "type": "string"
            }
          },
          "metadata": {},
          "execution_count": 199
        }
      ]
    },
    {
      "cell_type": "code",
      "source": [
        "recall_scr = round(recall_score(y_test, test_y_pred, average='macro'), 2) * 100\n",
        "f'The recall score is {recall_scr}%'"
      ],
      "metadata": {
        "colab": {
          "base_uri": "https://localhost:8080/",
          "height": 35
        },
        "id": "ruLlvNF4QbVB",
        "outputId": "f309fff1-dc3a-4de4-bf30-c8438d60812c"
      },
      "execution_count": 200,
      "outputs": [
        {
          "output_type": "execute_result",
          "data": {
            "text/plain": [
              "'The recall score is 30.0%'"
            ],
            "application/vnd.google.colaboratory.intrinsic+json": {
              "type": "string"
            }
          },
          "metadata": {},
          "execution_count": 200
        }
      ]
    },
    {
      "cell_type": "code",
      "source": [
        "scoring(y_test, test_y_pred, dtree, vect_X_test)"
      ],
      "metadata": {
        "colab": {
          "base_uri": "https://localhost:8080/",
          "height": 942
        },
        "id": "59j4FTMVQeGM",
        "outputId": "26841a30-e212-4c60-dee6-2622177f1c99"
      },
      "execution_count": 201,
      "outputs": [
        {
          "output_type": "stream",
          "name": "stderr",
          "text": [
            "/usr/local/lib/python3.7/dist-packages/sklearn/metrics/_classification.py:1318: UndefinedMetricWarning: Precision is ill-defined and being set to 0.0 in labels with no predicted samples. Use `zero_division` parameter to control this behavior.\n",
            "  _warn_prf(average, modifier, msg_start, len(result))\n",
            "/usr/local/lib/python3.7/dist-packages/sklearn/metrics/_classification.py:1318: UndefinedMetricWarning: Precision and F-score are ill-defined and being set to 0.0 in labels with no predicted samples. Use `zero_division` parameter to control this behavior.\n",
            "  _warn_prf(average, modifier, msg_start, len(result))\n",
            "/usr/local/lib/python3.7/dist-packages/sklearn/metrics/_classification.py:1318: UndefinedMetricWarning: Precision and F-score are ill-defined and being set to 0.0 in labels with no predicted samples. Use `zero_division` parameter to control this behavior.\n",
            "  _warn_prf(average, modifier, msg_start, len(result))\n",
            "/usr/local/lib/python3.7/dist-packages/sklearn/metrics/_classification.py:1318: UndefinedMetricWarning: Precision and F-score are ill-defined and being set to 0.0 in labels with no predicted samples. Use `zero_division` parameter to control this behavior.\n",
            "  _warn_prf(average, modifier, msg_start, len(result))\n",
            "/usr/local/lib/python3.7/dist-packages/sklearn/utils/deprecation.py:87: FutureWarning: Function plot_confusion_matrix is deprecated; Function `plot_confusion_matrix` is deprecated in 1.0 and will be removed in 1.2. Use one of the class methods: ConfusionMatrixDisplay.from_predictions or ConfusionMatrixDisplay.from_estimator.\n",
            "  warnings.warn(msg, category=FutureWarning)\n"
          ]
        },
        {
          "output_type": "stream",
          "name": "stdout",
          "text": [
            "Accuracy: 57.7%\n",
            "Precision: 67.9%\n",
            "Recall: 30.2%\n",
            "F1: 34.9%\n",
            "\n",
            "\n",
            "Classification Report\n",
            "\n",
            "\n",
            "              precision    recall  f1-score   support\n",
            "\n",
            "           0       0.00      0.00      0.00        33\n",
            "           1       0.86      0.39      0.54       459\n",
            "           2       0.00      0.00      0.00        59\n",
            "           3       0.89      0.07      0.13       233\n",
            "           4       0.81      0.31      0.45       287\n",
            "           5       0.91      0.41      0.56      2251\n",
            "           6       1.00      0.01      0.03        77\n",
            "           7       0.96      0.54      0.69       871\n",
            "           8       0.89      0.32      0.48      1028\n",
            "           9       0.45      0.96      0.61      2702\n",
            "\n",
            "    accuracy                           0.58      8000\n",
            "   macro avg       0.68      0.30      0.35      8000\n",
            "weighted avg       0.74      0.58      0.55      8000\n",
            "\n"
          ]
        },
        {
          "output_type": "display_data",
          "data": {
            "text/plain": [
              "<Figure size 432x288 with 2 Axes>"
            ],
            "image/png": "[encoded data removed]"
          },
          "metadata": {
            "needs_background": "light"
          }
        }
      ]
    },
    {
      "cell_type": "markdown",
      "source": [
        "KNN classifier\n"
      ],
      "metadata": {
        "id": "iA6xGnscm7Zr"
      }
    },
    {
      "cell_type": "code",
      "source": [
        "neigh = KNeighborsClassifier(n_neighbors=17, weights='distance')\n",
        "neigh.fit(vect_X_train, y_train)"
      ],
      "metadata": {
        "colab": {
          "base_uri": "https://localhost:8080/"
        },
        "id": "eISOj7_dRErt",
        "outputId": "ee7cac86-4c60-45df-c04e-e931ab1771b6"
      },
      "execution_count": 210,
      "outputs": [
        {
          "output_type": "execute_result",
          "data": {
            "text/plain": [
              "KNeighborsClassifier(n_neighbors=17, weights='distance')"
            ]
          },
          "metadata": {},
          "execution_count": 210
        }
      ]
    },
    {
      "cell_type": "code",
      "source": [
        "test_y_pred = neigh.predict(vect_X_test)\n",
        "f'The accuracy score is: {round(accuracy_score(y_test, test_y_pred)*100, 2)}%'"
      ],
      "metadata": {
        "colab": {
          "base_uri": "https://localhost:8080/",
          "height": 35
        },
        "id": "D-pG4NylSmLx",
        "outputId": "6606b022-b2d7-463e-cfe3-033ed73e6c75"
      },
      "execution_count": 211,
      "outputs": [
        {
          "output_type": "execute_result",
          "data": {
            "text/plain": [
              "'The accuracy score is: 67.85%'"
            ],
            "application/vnd.google.colaboratory.intrinsic+json": {
              "type": "string"
            }
          },
          "metadata": {},
          "execution_count": 211
        }
      ]
    },
    {
      "cell_type": "code",
      "source": [
        "recall_scr = round(recall_score(y_test, test_y_pred, average='macro'), 2) * 100\n",
        "f'The recall score is {recall_scr}%'"
      ],
      "metadata": {
        "colab": {
          "base_uri": "https://localhost:8080/",
          "height": 35
        },
        "id": "f-uQQOmeSsV4",
        "outputId": "b9f5dd5b-ae6d-4ce6-9db4-6d77a8abc495"
      },
      "execution_count": 212,
      "outputs": [
        {
          "output_type": "execute_result",
          "data": {
            "text/plain": [
              "'The recall score is 45.0%'"
            ],
            "application/vnd.google.colaboratory.intrinsic+json": {
              "type": "string"
            }
          },
          "metadata": {},
          "execution_count": 212
        }
      ]
    },
    {
      "cell_type": "code",
      "source": [
        "scoring(y_test, test_y_pred, neigh, vect_X_test)"
      ],
      "metadata": {
        "colab": {
          "base_uri": "https://localhost:8080/",
          "height": 799
        },
        "id": "9boPQMrhSuvN",
        "outputId": "2d54e92b-c0ed-4219-8276-cfe9dbeb119f"
      },
      "execution_count": 213,
      "outputs": [
        {
          "output_type": "stream",
          "name": "stdout",
          "text": [
            "Accuracy: 67.8%\n",
            "Precision: 81.4%\n",
            "Recall: 44.8%\n",
            "F1: 52.9%\n",
            "\n",
            "\n",
            "Classification Report\n",
            "\n",
            "\n",
            "              precision    recall  f1-score   support\n",
            "\n",
            "           0       0.89      0.24      0.38        33\n",
            "           1       0.83      0.53      0.65       459\n",
            "           2       0.93      0.24      0.38        59\n",
            "           3       0.80      0.21      0.33       233\n",
            "           4       0.85      0.42      0.56       287\n",
            "           5       0.81      0.67      0.73      2251\n",
            "           6       0.82      0.12      0.20        77\n",
            "           7       0.89      0.66      0.76       871\n",
            "           8       0.77      0.52      0.62      1028\n",
            "           9       0.56      0.87      0.68      2702\n",
            "\n",
            "    accuracy                           0.68      8000\n",
            "   macro avg       0.81      0.45      0.53      8000\n",
            "weighted avg       0.73      0.68      0.67      8000\n",
            "\n"
          ]
        },
        {
          "output_type": "stream",
          "name": "stderr",
          "text": [
            "/usr/local/lib/python3.7/dist-packages/sklearn/utils/deprecation.py:87: FutureWarning: Function plot_confusion_matrix is deprecated; Function `plot_confusion_matrix` is deprecated in 1.0 and will be removed in 1.2. Use one of the class methods: ConfusionMatrixDisplay.from_predictions or ConfusionMatrixDisplay.from_estimator.\n",
            "  warnings.warn(msg, category=FutureWarning)\n"
          ]
        },
        {
          "output_type": "display_data",
          "data": {
            "text/plain": [
              "<Figure size 432x288 with 2 Axes>"
            ],
            "image/png": "[encoded data removed]"
          },
          "metadata": {
            "needs_background": "light"
          }
        }
      ]
    }
  ]
}